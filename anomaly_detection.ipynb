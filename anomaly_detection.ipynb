{
  "cells": [
    {
      "cell_type": "markdown",
      "metadata": {
        "id": "IvEG7IQ115yR"
      },
      "source": [
        "## Setup"
      ]
    },
    {
      "cell_type": "code",
      "source": [
        "from google.colab import drive\n",
        "drive.mount('/content/drive')"
      ],
      "metadata": {
        "colab": {
          "base_uri": "https://localhost:8080/"
        },
        "id": "HjIg-ZYL5wjN",
        "outputId": "0613747b-d3fa-4292-f12f-d7aab5385e1f"
      },
      "execution_count": 1,
      "outputs": [
        {
          "output_type": "stream",
          "name": "stdout",
          "text": [
            "Mounted at /content/drive\n"
          ]
        }
      ]
    },
    {
      "cell_type": "code",
      "metadata": {
        "id": "F9K7peYhmZI9",
        "colab": {
          "base_uri": "https://localhost:8080/"
        },
        "outputId": "79543a1d-5402-44c0-d305-62dd5a20dddd"
      },
      "source": [
        "!pip install --upgrade gluoncv"
      ],
      "execution_count": 2,
      "outputs": [
        {
          "output_type": "stream",
          "name": "stdout",
          "text": [
            "Collecting gluoncv\n",
            "  Downloading gluoncv-0.10.5.post0-py2.py3-none-any.whl (1.3 MB)\n",
            "\u001b[2K     \u001b[90m━━━━━━━━━━━━━━━━━━━━━━━━━━━━━━━━━━━━━━━━\u001b[0m \u001b[32m1.3/1.3 MB\u001b[0m \u001b[31m8.9 MB/s\u001b[0m eta \u001b[36m0:00:00\u001b[0m\n",
            "\u001b[?25hRequirement already satisfied: numpy in /usr/local/lib/python3.10/dist-packages (from gluoncv) (1.22.4)\n",
            "Requirement already satisfied: tqdm in /usr/local/lib/python3.10/dist-packages (from gluoncv) (4.65.0)\n",
            "Requirement already satisfied: requests in /usr/local/lib/python3.10/dist-packages (from gluoncv) (2.27.1)\n",
            "Requirement already satisfied: matplotlib in /usr/local/lib/python3.10/dist-packages (from gluoncv) (3.7.1)\n",
            "Collecting portalocker (from gluoncv)\n",
            "  Downloading portalocker-2.7.0-py2.py3-none-any.whl (15 kB)\n",
            "Requirement already satisfied: Pillow in /usr/local/lib/python3.10/dist-packages (from gluoncv) (9.4.0)\n",
            "Requirement already satisfied: scipy in /usr/local/lib/python3.10/dist-packages (from gluoncv) (1.10.1)\n",
            "Collecting yacs (from gluoncv)\n",
            "  Downloading yacs-0.1.8-py3-none-any.whl (14 kB)\n",
            "Requirement already satisfied: pandas in /usr/local/lib/python3.10/dist-packages (from gluoncv) (1.5.3)\n",
            "Requirement already satisfied: pyyaml in /usr/local/lib/python3.10/dist-packages (from gluoncv) (6.0.1)\n",
            "Collecting autocfg (from gluoncv)\n",
            "  Downloading autocfg-0.0.8-py3-none-any.whl (13 kB)\n",
            "Requirement already satisfied: opencv-python in /usr/local/lib/python3.10/dist-packages (from gluoncv) (4.7.0.72)\n",
            "Requirement already satisfied: contourpy>=1.0.1 in /usr/local/lib/python3.10/dist-packages (from matplotlib->gluoncv) (1.1.0)\n",
            "Requirement already satisfied: cycler>=0.10 in /usr/local/lib/python3.10/dist-packages (from matplotlib->gluoncv) (0.11.0)\n",
            "Requirement already satisfied: fonttools>=4.22.0 in /usr/local/lib/python3.10/dist-packages (from matplotlib->gluoncv) (4.41.1)\n",
            "Requirement already satisfied: kiwisolver>=1.0.1 in /usr/local/lib/python3.10/dist-packages (from matplotlib->gluoncv) (1.4.4)\n",
            "Requirement already satisfied: packaging>=20.0 in /usr/local/lib/python3.10/dist-packages (from matplotlib->gluoncv) (23.1)\n",
            "Requirement already satisfied: pyparsing>=2.3.1 in /usr/local/lib/python3.10/dist-packages (from matplotlib->gluoncv) (3.1.0)\n",
            "Requirement already satisfied: python-dateutil>=2.7 in /usr/local/lib/python3.10/dist-packages (from matplotlib->gluoncv) (2.8.2)\n",
            "Requirement already satisfied: pytz>=2020.1 in /usr/local/lib/python3.10/dist-packages (from pandas->gluoncv) (2022.7.1)\n",
            "Requirement already satisfied: urllib3<1.27,>=1.21.1 in /usr/local/lib/python3.10/dist-packages (from requests->gluoncv) (1.26.16)\n",
            "Requirement already satisfied: certifi>=2017.4.17 in /usr/local/lib/python3.10/dist-packages (from requests->gluoncv) (2023.7.22)\n",
            "Requirement already satisfied: charset-normalizer~=2.0.0 in /usr/local/lib/python3.10/dist-packages (from requests->gluoncv) (2.0.12)\n",
            "Requirement already satisfied: idna<4,>=2.5 in /usr/local/lib/python3.10/dist-packages (from requests->gluoncv) (3.4)\n",
            "Requirement already satisfied: six>=1.5 in /usr/local/lib/python3.10/dist-packages (from python-dateutil>=2.7->matplotlib->gluoncv) (1.16.0)\n",
            "Installing collected packages: yacs, portalocker, autocfg, gluoncv\n",
            "Successfully installed autocfg-0.0.8 gluoncv-0.10.5.post0 portalocker-2.7.0 yacs-0.1.8\n"
          ]
        }
      ]
    },
    {
      "cell_type": "code",
      "source": [
        "!nvcc --version"
      ],
      "metadata": {
        "colab": {
          "base_uri": "https://localhost:8080/"
        },
        "id": "WYaWv5Vk9FTz",
        "outputId": "f7808303-e11e-4ef2-b0d7-fd08b6f5b356"
      },
      "execution_count": 3,
      "outputs": [
        {
          "output_type": "stream",
          "name": "stdout",
          "text": [
            "nvcc: NVIDIA (R) Cuda compiler driver\n",
            "Copyright (c) 2005-2022 NVIDIA Corporation\n",
            "Built on Wed_Sep_21_10:33:58_PDT_2022\n",
            "Cuda compilation tools, release 11.8, V11.8.89\n",
            "Build cuda_11.8.r11.8/compiler.31833905_0\n"
          ]
        }
      ]
    },
    {
      "cell_type": "code",
      "source": [
        "# !sudo ln -sfT /usr/local/cuda/cuda-11.0/ /usr/local/cuda\n",
        "# !pip install mxnet-cu110\n",
        "# !apt install libnvrtc11.0\n",
        "!pip install mxnet-cu112"
      ],
      "metadata": {
        "colab": {
          "base_uri": "https://localhost:8080/"
        },
        "id": "c6l_cUzA7Ekh",
        "outputId": "f19276ef-cbe4-47f5-84c6-49a3b469e4e7"
      },
      "execution_count": 4,
      "outputs": [
        {
          "output_type": "stream",
          "name": "stdout",
          "text": [
            "Collecting mxnet-cu112\n",
            "  Downloading mxnet_cu112-1.9.1-py3-none-manylinux2014_x86_64.whl (499.4 MB)\n",
            "\u001b[2K     \u001b[90m━━━━━━━━━━━━━━━━━━━━━━━━━━━━━━━━━━━━━━━\u001b[0m \u001b[32m499.4/499.4 MB\u001b[0m \u001b[31m2.9 MB/s\u001b[0m eta \u001b[36m0:00:00\u001b[0m\n",
            "\u001b[?25hRequirement already satisfied: numpy<2.0.0,>1.16.0 in /usr/local/lib/python3.10/dist-packages (from mxnet-cu112) (1.22.4)\n",
            "Requirement already satisfied: requests<3,>=2.20.0 in /usr/local/lib/python3.10/dist-packages (from mxnet-cu112) (2.27.1)\n",
            "Collecting graphviz<0.9.0,>=0.8.1 (from mxnet-cu112)\n",
            "  Downloading graphviz-0.8.4-py2.py3-none-any.whl (16 kB)\n",
            "Requirement already satisfied: urllib3<1.27,>=1.21.1 in /usr/local/lib/python3.10/dist-packages (from requests<3,>=2.20.0->mxnet-cu112) (1.26.16)\n",
            "Requirement already satisfied: certifi>=2017.4.17 in /usr/local/lib/python3.10/dist-packages (from requests<3,>=2.20.0->mxnet-cu112) (2023.7.22)\n",
            "Requirement already satisfied: charset-normalizer~=2.0.0 in /usr/local/lib/python3.10/dist-packages (from requests<3,>=2.20.0->mxnet-cu112) (2.0.12)\n",
            "Requirement already satisfied: idna<4,>=2.5 in /usr/local/lib/python3.10/dist-packages (from requests<3,>=2.20.0->mxnet-cu112) (3.4)\n",
            "Installing collected packages: graphviz, mxnet-cu112\n",
            "  Attempting uninstall: graphviz\n",
            "    Found existing installation: graphviz 0.20.1\n",
            "    Uninstalling graphviz-0.20.1:\n",
            "      Successfully uninstalled graphviz-0.20.1\n",
            "Successfully installed graphviz-0.8.4 mxnet-cu112-1.9.1\n"
          ]
        }
      ]
    },
    {
      "cell_type": "code",
      "source": [
        "import mxnet\n",
        "mxnet.__version__"
      ],
      "metadata": {
        "colab": {
          "base_uri": "https://localhost:8080/",
          "height": 35
        },
        "id": "cdfvucZe7Q9-",
        "outputId": "2bef400b-6a27-4983-bcbd-525b37cd0e07"
      },
      "execution_count": 5,
      "outputs": [
        {
          "output_type": "execute_result",
          "data": {
            "text/plain": [
              "'1.9.1'"
            ],
            "application/vnd.google.colaboratory.intrinsic+json": {
              "type": "string"
            }
          },
          "metadata": {},
          "execution_count": 5
        }
      ]
    },
    {
      "cell_type": "code",
      "metadata": {
        "id": "7gK0rabWmwjM",
        "colab": {
          "base_uri": "https://localhost:8080/"
        },
        "outputId": "437d996e-a270-44ce-b8b2-201b21d3c37e"
      },
      "source": [
        "!pip install decord"
      ],
      "execution_count": 6,
      "outputs": [
        {
          "output_type": "stream",
          "name": "stdout",
          "text": [
            "Collecting decord\n",
            "  Downloading decord-0.6.0-py3-none-manylinux2010_x86_64.whl (13.6 MB)\n",
            "\u001b[2K     \u001b[90m━━━━━━━━━━━━━━━━━━━━━━━━━━━━━━━━━━━━━━━━\u001b[0m \u001b[32m13.6/13.6 MB\u001b[0m \u001b[31m30.5 MB/s\u001b[0m eta \u001b[36m0:00:00\u001b[0m\n",
            "\u001b[?25hRequirement already satisfied: numpy>=1.14.0 in /usr/local/lib/python3.10/dist-packages (from decord) (1.22.4)\n",
            "Installing collected packages: decord\n",
            "Successfully installed decord-0.6.0\n"
          ]
        }
      ]
    },
    {
      "cell_type": "code",
      "source": [
        "!pip install torch==1.13.1 torchvision==0.14.1 torchaudio==0.13.1"
      ],
      "metadata": {
        "colab": {
          "base_uri": "https://localhost:8080/"
        },
        "id": "cgvTd9Qt-GWv",
        "outputId": "46cd52ed-0877-4ab5-928b-20157e7d7aa8"
      },
      "execution_count": 7,
      "outputs": [
        {
          "output_type": "stream",
          "name": "stdout",
          "text": [
            "Collecting torch==1.13.1\n",
            "  Downloading torch-1.13.1-cp310-cp310-manylinux1_x86_64.whl (887.5 MB)\n",
            "\u001b[2K     \u001b[90m━━━━━━━━━━━━━━━━━━━━━━━━━━━━━━━━━━━━━━━\u001b[0m \u001b[32m887.5/887.5 MB\u001b[0m \u001b[31m1.5 MB/s\u001b[0m eta \u001b[36m0:00:00\u001b[0m\n",
            "\u001b[?25hCollecting torchvision==0.14.1\n",
            "  Downloading torchvision-0.14.1-cp310-cp310-manylinux1_x86_64.whl (24.2 MB)\n",
            "\u001b[2K     \u001b[90m━━━━━━━━━━━━━━━━━━━━━━━━━━━━━━━━━━━━━━━━\u001b[0m \u001b[32m24.2/24.2 MB\u001b[0m \u001b[31m26.9 MB/s\u001b[0m eta \u001b[36m0:00:00\u001b[0m\n",
            "\u001b[?25hCollecting torchaudio==0.13.1\n",
            "  Downloading torchaudio-0.13.1-cp310-cp310-manylinux1_x86_64.whl (4.2 MB)\n",
            "\u001b[2K     \u001b[90m━━━━━━━━━━━━━━━━━━━━━━━━━━━━━━━━━━━━━━━━\u001b[0m \u001b[32m4.2/4.2 MB\u001b[0m \u001b[31m74.3 MB/s\u001b[0m eta \u001b[36m0:00:00\u001b[0m\n",
            "\u001b[?25hRequirement already satisfied: typing-extensions in /usr/local/lib/python3.10/dist-packages (from torch==1.13.1) (4.7.1)\n",
            "Collecting nvidia-cuda-runtime-cu11==11.7.99 (from torch==1.13.1)\n",
            "  Downloading nvidia_cuda_runtime_cu11-11.7.99-py3-none-manylinux1_x86_64.whl (849 kB)\n",
            "\u001b[2K     \u001b[90m━━━━━━━━━━━━━━━━━━━━━━━━━━━━━━━━━━━━━━\u001b[0m \u001b[32m849.3/849.3 kB\u001b[0m \u001b[31m42.2 MB/s\u001b[0m eta \u001b[36m0:00:00\u001b[0m\n",
            "\u001b[?25hCollecting nvidia-cudnn-cu11==8.5.0.96 (from torch==1.13.1)\n",
            "  Downloading nvidia_cudnn_cu11-8.5.0.96-2-py3-none-manylinux1_x86_64.whl (557.1 MB)\n",
            "\u001b[2K     \u001b[90m━━━━━━━━━━━━━━━━━━━━━━━━━━━━━━━━━━━━━━━\u001b[0m \u001b[32m557.1/557.1 MB\u001b[0m \u001b[31m3.0 MB/s\u001b[0m eta \u001b[36m0:00:00\u001b[0m\n",
            "\u001b[?25hCollecting nvidia-cublas-cu11==11.10.3.66 (from torch==1.13.1)\n",
            "  Downloading nvidia_cublas_cu11-11.10.3.66-py3-none-manylinux1_x86_64.whl (317.1 MB)\n",
            "\u001b[2K     \u001b[90m━━━━━━━━━━━━━━━━━━━━━━━━━━━━━━━━━━━━━━━\u001b[0m \u001b[32m317.1/317.1 MB\u001b[0m \u001b[31m4.6 MB/s\u001b[0m eta \u001b[36m0:00:00\u001b[0m\n",
            "\u001b[?25hCollecting nvidia-cuda-nvrtc-cu11==11.7.99 (from torch==1.13.1)\n",
            "  Downloading nvidia_cuda_nvrtc_cu11-11.7.99-2-py3-none-manylinux1_x86_64.whl (21.0 MB)\n",
            "\u001b[2K     \u001b[90m━━━━━━━━━━━━━━━━━━━━━━━━━━━━━━━━━━━━━━━━\u001b[0m \u001b[32m21.0/21.0 MB\u001b[0m \u001b[31m79.7 MB/s\u001b[0m eta \u001b[36m0:00:00\u001b[0m\n",
            "\u001b[?25hRequirement already satisfied: numpy in /usr/local/lib/python3.10/dist-packages (from torchvision==0.14.1) (1.22.4)\n",
            "Requirement already satisfied: requests in /usr/local/lib/python3.10/dist-packages (from torchvision==0.14.1) (2.27.1)\n",
            "Requirement already satisfied: pillow!=8.3.*,>=5.3.0 in /usr/local/lib/python3.10/dist-packages (from torchvision==0.14.1) (9.4.0)\n",
            "Requirement already satisfied: setuptools in /usr/local/lib/python3.10/dist-packages (from nvidia-cublas-cu11==11.10.3.66->torch==1.13.1) (67.7.2)\n",
            "Requirement already satisfied: wheel in /usr/local/lib/python3.10/dist-packages (from nvidia-cublas-cu11==11.10.3.66->torch==1.13.1) (0.41.0)\n",
            "Requirement already satisfied: urllib3<1.27,>=1.21.1 in /usr/local/lib/python3.10/dist-packages (from requests->torchvision==0.14.1) (1.26.16)\n",
            "Requirement already satisfied: certifi>=2017.4.17 in /usr/local/lib/python3.10/dist-packages (from requests->torchvision==0.14.1) (2023.7.22)\n",
            "Requirement already satisfied: charset-normalizer~=2.0.0 in /usr/local/lib/python3.10/dist-packages (from requests->torchvision==0.14.1) (2.0.12)\n",
            "Requirement already satisfied: idna<4,>=2.5 in /usr/local/lib/python3.10/dist-packages (from requests->torchvision==0.14.1) (3.4)\n",
            "Installing collected packages: nvidia-cuda-runtime-cu11, nvidia-cuda-nvrtc-cu11, nvidia-cublas-cu11, nvidia-cudnn-cu11, torch, torchvision, torchaudio\n",
            "  Attempting uninstall: torch\n",
            "    Found existing installation: torch 2.0.1+cu118\n",
            "    Uninstalling torch-2.0.1+cu118:\n",
            "      Successfully uninstalled torch-2.0.1+cu118\n",
            "  Attempting uninstall: torchvision\n",
            "    Found existing installation: torchvision 0.15.2+cu118\n",
            "    Uninstalling torchvision-0.15.2+cu118:\n",
            "      Successfully uninstalled torchvision-0.15.2+cu118\n",
            "  Attempting uninstall: torchaudio\n",
            "    Found existing installation: torchaudio 2.0.2+cu118\n",
            "    Uninstalling torchaudio-2.0.2+cu118:\n",
            "      Successfully uninstalled torchaudio-2.0.2+cu118\n",
            "\u001b[31mERROR: pip's dependency resolver does not currently take into account all the packages that are installed. This behaviour is the source of the following dependency conflicts.\n",
            "torchdata 0.6.1 requires torch==2.0.1, but you have torch 1.13.1 which is incompatible.\n",
            "torchtext 0.15.2 requires torch==2.0.1, but you have torch 1.13.1 which is incompatible.\u001b[0m\u001b[31m\n",
            "\u001b[0mSuccessfully installed nvidia-cublas-cu11-11.10.3.66 nvidia-cuda-nvrtc-cu11-11.7.99 nvidia-cuda-runtime-cu11-11.7.99 nvidia-cudnn-cu11-8.5.0.96 torch-1.13.1 torchaudio-0.13.1 torchvision-0.14.1\n"
          ]
        }
      ]
    },
    {
      "cell_type": "code",
      "metadata": {
        "id": "hi1mU3dhmo1P",
        "colab": {
          "base_uri": "https://localhost:8080/"
        },
        "outputId": "e259a45e-181e-4161-e2a0-f317b61cb97c"
      },
      "source": [
        "import mxnet as mx\n",
        "from mxnet import nd, gluon\n",
        "from mxnet import autograd as ag\n",
        "\n",
        "import gluoncv\n",
        "from gluoncv.data import VideoClsCustom\n",
        "from gluoncv.data.transforms import video\n",
        "from gluoncv.model_zoo import get_model\n",
        "from gluoncv.utils import split_and_load, TrainingHistory\n",
        "\n",
        "import decord\n",
        "\n",
        "from sklearn import metrics\n",
        "\n",
        "import cv2\n",
        "import numpy as np\n",
        "import os\n",
        "import shutil\n",
        "import time\n",
        "import tqdm\n",
        "\n",
        "import matplotlib.pyplot as plt\n",
        "import seaborn as sn"
      ],
      "execution_count": 8,
      "outputs": [
        {
          "output_type": "stream",
          "name": "stderr",
          "text": [
            "/usr/local/lib/python3.10/dist-packages/gluoncv/__init__.py:40: UserWarning: Both `mxnet==1.9.1` and `torch==1.13.1+cu117` are installed. You might encounter increased GPU memory footprint if both framework are used at the same time.\n",
            "  warnings.warn(f'Both `mxnet=={mx.__version__}` and `torch=={torch.__version__}` are installed. '\n"
          ]
        }
      ]
    },
    {
      "cell_type": "code",
      "metadata": {
        "id": "VnCYvoDnm0nt",
        "colab": {
          "base_uri": "https://localhost:8080/"
        },
        "outputId": "2328b0fd-94d3-4c28-80d5-bb50a6a73624"
      },
      "source": [
        "print(f'''Versions:\n",
        "mxnet: {mx.__version__}\n",
        "decord: {decord.__version__}\n",
        "gluoncv: {gluoncv.__version__}\n",
        "''')"
      ],
      "execution_count": 9,
      "outputs": [
        {
          "output_type": "stream",
          "name": "stdout",
          "text": [
            "Versions:\n",
            "mxnet: 1.9.1\n",
            "decord: 0.6.0\n",
            "gluoncv: 0.11.0\n",
            "\n"
          ]
        }
      ]
    },
    {
      "cell_type": "code",
      "source": [
        "!unzip /content/drive/MyDrive/ucf-crime-shoplifting.zip"
      ],
      "metadata": {
        "colab": {
          "base_uri": "https://localhost:8080/"
        },
        "id": "VpBWEiYs_V6a",
        "outputId": "e7e7e7e8-4a77-4b18-d7d2-ae0e63283c41"
      },
      "execution_count": 10,
      "outputs": [
        {
          "output_type": "stream",
          "name": "stdout",
          "text": [
            "Archive:  /content/drive/MyDrive/ucf-crime-shoplifting.zip\n",
            "   creating: dataset/\n",
            "   creating: dataset/dataset/\n",
            "   creating: dataset/dataset/Normal/\n",
            "  inflating: dataset/dataset/Normal/Normal_Videos001_x264.mp4  \n",
            "  inflating: dataset/dataset/Normal/Normal_Videos004_x264.mp4  \n",
            "  inflating: dataset/dataset/Normal/Normal_Videos007_x264.mp4  \n",
            "  inflating: dataset/dataset/Normal/Normal_Videos008_x264.mp4  \n",
            "  inflating: dataset/dataset/Normal/Normal_Videos011_x264.mp4  \n",
            "  inflating: dataset/dataset/Normal/Normal_Videos012_x264.mp4  \n",
            "  inflating: dataset/dataset/Normal/Normal_Videos017_x264.mp4  \n",
            "  inflating: dataset/dataset/Normal/Normal_Videos020_x264.mp4  \n",
            "  inflating: dataset/dataset/Normal/Normal_Videos021_x264.mp4  \n",
            "  inflating: dataset/dataset/Normal/Normal_Videos026_x264.mp4  \n",
            "  inflating: dataset/dataset/Normal/Normal_Videos028_x264.mp4  \n",
            "  inflating: dataset/dataset/Normal/Normal_Videos032_x264.mp4  \n",
            "  inflating: dataset/dataset/Normal/Normal_Videos035_x264.mp4  \n",
            "  inflating: dataset/dataset/Normal/Normal_Videos037_x264.mp4  \n",
            "  inflating: dataset/dataset/Normal/Normal_Videos038_x264.mp4  \n",
            "  inflating: dataset/dataset/Normal/Normal_Videos046_x264.mp4  \n",
            "  inflating: dataset/dataset/Normal/Normal_Videos047_x264.mp4  \n",
            "  inflating: dataset/dataset/Normal/Normal_Videos052_x264.mp4  \n",
            "  inflating: dataset/dataset/Normal/Normal_Videos053_x264.mp4  \n",
            "  inflating: dataset/dataset/Normal/Normal_Videos054_x264.mp4  \n",
            "  inflating: dataset/dataset/Normal/Normal_Videos057_x264.mp4  \n",
            "  inflating: dataset/dataset/Normal/Normal_Videos058_x264.mp4  \n",
            "  inflating: dataset/dataset/Normal/Normal_Videos066_x264.mp4  \n",
            "  inflating: dataset/dataset/Normal/Normal_Videos069_x264.mp4  \n",
            "  inflating: dataset/dataset/Normal/Normal_Videos071_x264.mp4  \n",
            "  inflating: dataset/dataset/Normal/Normal_Videos083_x264.mp4  \n",
            "  inflating: dataset/dataset/Normal/Normal_Videos084_x264.mp4  \n",
            "  inflating: dataset/dataset/Normal/Normal_Videos085_x264.mp4  \n",
            "  inflating: dataset/dataset/Normal/Normal_Videos086_x264.mp4  \n",
            "  inflating: dataset/dataset/Normal/Normal_Videos092_x264.mp4  \n",
            "  inflating: dataset/dataset/Normal/Normal_Videos095_x264.mp4  \n",
            "  inflating: dataset/dataset/Normal/Normal_Videos096_x264.mp4  \n",
            "  inflating: dataset/dataset/Normal/Normal_Videos099_x264.mp4  \n",
            "  inflating: dataset/dataset/Normal/Normal_Videos102_x264.mp4  \n",
            "  inflating: dataset/dataset/Normal/Normal_Videos103_x264.mp4  \n",
            "  inflating: dataset/dataset/Normal/Normal_Videos105_x264.mp4  \n",
            "  inflating: dataset/dataset/Normal/Normal_Videos107_x264.mp4  \n",
            "  inflating: dataset/dataset/Normal/Normal_Videos109_x264.mp4  \n",
            "  inflating: dataset/dataset/Normal/Normal_Videos112_x264.mp4  \n",
            "  inflating: dataset/dataset/Normal/Normal_Videos113_x264.mp4  \n",
            "  inflating: dataset/dataset/Normal/Normal_Videos115_x264.mp4  \n",
            "  inflating: dataset/dataset/Normal/Normal_Videos117_x264.mp4  \n",
            "  inflating: dataset/dataset/Normal/Normal_Videos120_x264.mp4  \n",
            "  inflating: dataset/dataset/Normal/Normal_Videos122_x264.mp4  \n",
            "  inflating: dataset/dataset/Normal/Normal_Videos123_x264.mp4  \n",
            "  inflating: dataset/dataset/Normal/Normal_Videos127_x264.mp4  \n",
            "  inflating: dataset/dataset/Normal/Normal_Videos130_x264.mp4  \n",
            "  inflating: dataset/dataset/Normal/Normal_Videos132_x264.mp4  \n",
            "  inflating: dataset/dataset/Normal/Normal_Videos133_x264.mp4  \n",
            "  inflating: dataset/dataset/Normal/Normal_Videos134_x264.mp4  \n",
            "  inflating: dataset/dataset/Normal/Normal_Videos135_x264.mp4  \n",
            "  inflating: dataset/dataset/Normal/Normal_Videos140_x264.mp4  \n",
            "  inflating: dataset/dataset/Normal/Normal_Videos142_x264.mp4  \n",
            "  inflating: dataset/dataset/Normal/Normal_Videos143_x264.mp4  \n",
            "  inflating: dataset/dataset/Normal/Normal_Videos144_x264.mp4  \n",
            "  inflating: dataset/dataset/Normal/Normal_Videos145_x264.mp4  \n",
            "  inflating: dataset/dataset/Normal/Normal_Videos146_x264.mp4  \n",
            "  inflating: dataset/dataset/Normal/Normal_Videos149_x264.mp4  \n",
            "  inflating: dataset/dataset/Normal/Normal_Videos152_x264.mp4  \n",
            "  inflating: dataset/dataset/Normal/Normal_Videos156_x264.mp4  \n",
            "  inflating: dataset/dataset/Normal/Normal_Videos157_x264.mp4  \n",
            "  inflating: dataset/dataset/Normal/Normal_Videos159_x264.mp4  \n",
            "  inflating: dataset/dataset/Normal/Normal_Videos160_x264.mp4  \n",
            "  inflating: dataset/dataset/Normal/Normal_Videos164_x264.mp4  \n",
            "  inflating: dataset/dataset/Normal/Normal_Videos166_x264.mp4  \n",
            "  inflating: dataset/dataset/Normal/Normal_Videos167_x264.mp4  \n",
            "  inflating: dataset/dataset/Normal/Normal_Videos169_x264.mp4  \n",
            "  inflating: dataset/dataset/Normal/Normal_Videos172_x264.mp4  \n",
            "  inflating: dataset/dataset/Normal/Normal_Videos173_x264.mp4  \n",
            "  inflating: dataset/dataset/Normal/Normal_Videos174_x264.mp4  \n",
            "  inflating: dataset/dataset/Normal/Normal_Videos177_x264.mp4  \n",
            "  inflating: dataset/dataset/Normal/Normal_Videos180_x264.mp4  \n",
            "  inflating: dataset/dataset/Normal/Normal_Videos181_x264.mp4  \n",
            "  inflating: dataset/dataset/Normal/Normal_Videos190_x264.mp4  \n",
            "  inflating: dataset/dataset/Normal/Normal_Videos191_x264.mp4  \n",
            "  inflating: dataset/dataset/Normal/Normal_Videos192_x264.mp4  \n",
            "  inflating: dataset/dataset/Normal/Normal_Videos194_x264.mp4  \n",
            "  inflating: dataset/dataset/Normal/Normal_Videos195_x264.mp4  \n",
            "  inflating: dataset/dataset/Normal/Normal_Videos197_x264.mp4  \n",
            "  inflating: dataset/dataset/Normal/Normal_Videos199_x264.mp4  \n",
            "  inflating: dataset/dataset/Normal/Normal_Videos201_x264.mp4  \n",
            "  inflating: dataset/dataset/Normal/Normal_Videos205_x264.mp4  \n",
            "  inflating: dataset/dataset/Normal/Normal_Videos206_x264.mp4  \n",
            "  inflating: dataset/dataset/Normal/Normal_Videos207_x264.mp4  \n",
            "  inflating: dataset/dataset/Normal/Normal_Videos209_x264.mp4  \n",
            "  inflating: dataset/dataset/Normal/Normal_Videos211_x264.mp4  \n",
            "  inflating: dataset/dataset/Normal/Normal_Videos212_x264.mp4  \n",
            "  inflating: dataset/dataset/Normal/Normal_Videos213_x264.mp4  \n",
            "  inflating: dataset/dataset/Normal/Normal_Videos218_x264.mp4  \n",
            "  inflating: dataset/dataset/Normal/Normal_Videos219_x264.mp4  \n",
            "  inflating: dataset/dataset/Normal/Normal_Videos220_x264.mp4  \n",
            "  inflating: dataset/dataset/Normal/Normal_Videos221_x264.mp4  \n",
            "  inflating: dataset/dataset/Normal/Normal_Videos222_x264.mp4  \n",
            "  inflating: dataset/dataset/Normal/Normal_Videos223_x264.mp4  \n",
            "  inflating: dataset/dataset/Normal/Normal_Videos225_x264.mp4  \n",
            "  inflating: dataset/dataset/Normal/Normal_Videos226_x264.mp4  \n",
            "  inflating: dataset/dataset/Normal/Normal_Videos227_x264.mp4  \n",
            "  inflating: dataset/dataset/Normal/Normal_Videos228_x264.mp4  \n",
            "  inflating: dataset/dataset/Normal/Normal_Videos229_x264.mp4  \n",
            "  inflating: dataset/dataset/Normal/Normal_Videos232_x264.mp4  \n",
            "  inflating: dataset/dataset/Normal/Normal_Videos233_x264.mp4  \n",
            "  inflating: dataset/dataset/Normal/Normal_Videos234_x264.mp4  \n",
            "  inflating: dataset/dataset/Normal/Normal_Videos235_x264.mp4  \n",
            "  inflating: dataset/dataset/Normal/Normal_Videos236_x264.mp4  \n",
            "  inflating: dataset/dataset/Normal/Normal_Videos237_x264.mp4  \n",
            "  inflating: dataset/dataset/Normal/Normal_Videos238_x264.mp4  \n",
            "  inflating: dataset/dataset/Normal/Normal_Videos239_x264.mp4  \n",
            "  inflating: dataset/dataset/Normal/Normal_Videos240_x264.mp4  \n",
            "  inflating: dataset/dataset/Normal/Normal_Videos241_x264.mp4  \n",
            "  inflating: dataset/dataset/Normal/Normal_Videos242_x264.mp4  \n",
            "  inflating: dataset/dataset/Normal/Normal_Videos243_x264.mp4  \n",
            "  inflating: dataset/dataset/Normal/Normal_Videos245_x264.mp4  \n",
            "  inflating: dataset/dataset/Normal/Normal_Videos249_x264.mp4  \n",
            "  inflating: dataset/dataset/Normal/Normal_Videos250_x264.mp4  \n",
            "  inflating: dataset/dataset/Normal/Normal_Videos252_x264.mp4  \n",
            "  inflating: dataset/dataset/Normal/Normal_Videos253_x264.mp4  \n",
            "  inflating: dataset/dataset/Normal/Normal_Videos254_x264.mp4  \n",
            "  inflating: dataset/dataset/Normal/Normal_Videos255_x264.mp4  \n",
            "  inflating: dataset/dataset/Normal/Normal_Videos260_x264.mp4  \n",
            "  inflating: dataset/dataset/Normal/Normal_Videos261_x264.mp4  \n",
            "  inflating: dataset/dataset/Normal/Normal_Videos262_x264.mp4  \n",
            "  inflating: dataset/dataset/Normal/Normal_Videos263_x264.mp4  \n",
            "  inflating: dataset/dataset/Normal/Normal_Videos268_x264.mp4  \n",
            "  inflating: dataset/dataset/Normal/Normal_Videos269_x264.mp4  \n",
            "  inflating: dataset/dataset/Normal/Normal_Videos271_x264.mp4  \n",
            "  inflating: dataset/dataset/Normal/Normal_Videos272_x264.mp4  \n",
            "  inflating: dataset/dataset/Normal/Normal_Videos273_x264.mp4  \n",
            "  inflating: dataset/dataset/Normal/Normal_Videos274_x264.mp4  \n",
            "  inflating: dataset/dataset/Normal/Normal_Videos276_x264.mp4  \n",
            "  inflating: dataset/dataset/Normal/Normal_Videos277_x264.mp4  \n",
            "  inflating: dataset/dataset/Normal/Normal_Videos278_x264.mp4  \n",
            "  inflating: dataset/dataset/Normal/Normal_Videos280_x264.mp4  \n",
            "  inflating: dataset/dataset/Normal/Normal_Videos281_x264.mp4  \n",
            "  inflating: dataset/dataset/Normal/Normal_Videos282_x264.mp4  \n",
            "  inflating: dataset/dataset/Normal/Normal_Videos283_x264.mp4  \n",
            "  inflating: dataset/dataset/Normal/Normal_Videos286_x264.mp4  \n",
            "  inflating: dataset/dataset/Normal/Normal_Videos287_x264.mp4  \n",
            "  inflating: dataset/dataset/Normal/Normal_Videos290_x264.mp4  \n",
            "  inflating: dataset/dataset/Normal/Normal_Videos293_x264.mp4  \n",
            "  inflating: dataset/dataset/Normal/Normal_Videos296_x264.mp4  \n",
            "  inflating: dataset/dataset/Normal/Normal_Videos299_x264.mp4  \n",
            "  inflating: dataset/dataset/Normal/Normal_Videos300_x264.mp4  \n",
            "  inflating: dataset/dataset/Normal/Normal_Videos305_x264.mp4  \n",
            "  inflating: dataset/dataset/Normal/Normal_Videos306_x264.mp4  \n",
            "  inflating: dataset/dataset/Normal/Normal_Videos309_x264.mp4  \n",
            "  inflating: dataset/dataset/Normal/Normal_Videos313_x264.mp4  \n",
            "  inflating: dataset/dataset/Normal/Normal_Videos314_x264.mp4  \n",
            "  inflating: dataset/dataset/Normal/Normal_Videos315_x264.mp4  \n",
            "  inflating: dataset/dataset/Normal/Normal_Videos316_x264.mp4  \n",
            "  inflating: dataset/dataset/Normal/Normal_Videos318_x264.mp4  \n",
            "  inflating: dataset/dataset/Normal/Normal_Videos319_x264.mp4  \n",
            "  inflating: dataset/dataset/Normal/Normal_Videos321_x264.mp4  \n",
            "  inflating: dataset/dataset/Normal/Normal_Videos323_x264.mp4  \n",
            "  inflating: dataset/dataset/Normal/Normal_Videos332_x264.mp4  \n",
            "  inflating: dataset/dataset/Normal/Normal_Videos333_x264.mp4  \n",
            "  inflating: dataset/dataset/Normal/Normal_Videos334_x264.mp4  \n",
            "  inflating: dataset/dataset/Normal/Normal_Videos335_x264.mp4  \n",
            "  inflating: dataset/dataset/Normal/Normal_Videos336_x264.mp4  \n",
            "  inflating: dataset/dataset/Normal/Normal_Videos341_x264.mp4  \n",
            "  inflating: dataset/dataset/Normal/Normal_Videos342_x264.mp4  \n",
            "  inflating: dataset/dataset/Normal/Normal_Videos344_x264.mp4  \n",
            "  inflating: dataset/dataset/Normal/Normal_Videos346_x264.mp4  \n",
            "  inflating: dataset/dataset/Normal/Normal_Videos349_x264.mp4  \n",
            "  inflating: dataset/dataset/Normal/Normal_Videos350_x264.mp4  \n",
            "  inflating: dataset/dataset/Normal/Normal_Videos353_x264.mp4  \n",
            "  inflating: dataset/dataset/Normal/Normal_Videos354_x264.mp4  \n",
            "  inflating: dataset/dataset/Normal/Normal_Videos355_x264.mp4  \n",
            "  inflating: dataset/dataset/Normal/Normal_Videos359_x264.mp4  \n",
            "  inflating: dataset/dataset/Normal/Normal_Videos361_x264.mp4  \n",
            "  inflating: dataset/dataset/Normal/Normal_Videos362_x264.mp4  \n",
            "  inflating: dataset/dataset/Normal/Normal_Videos364_x264.mp4  \n",
            "  inflating: dataset/dataset/Normal/Normal_Videos368_x264.mp4  \n",
            "  inflating: dataset/dataset/Normal/Normal_Videos370_x264.mp4  \n",
            "  inflating: dataset/dataset/Normal/Normal_Videos371_x264.mp4  \n",
            "  inflating: dataset/dataset/Normal/Normal_Videos373_x264.mp4  \n",
            "  inflating: dataset/dataset/Normal/Normal_Videos375_x264.mp4  \n",
            "  inflating: dataset/dataset/Normal/Normal_Videos376_x264.mp4  \n",
            "  inflating: dataset/dataset/Normal/Normal_Videos378_x264.mp4  \n",
            "  inflating: dataset/dataset/Normal/Normal_Videos380_x264.mp4  \n",
            "  inflating: dataset/dataset/Normal/Normal_Videos391_x264.mp4  \n",
            "  inflating: dataset/dataset/Normal/Normal_Videos394_x264.mp4  \n",
            "  inflating: dataset/dataset/Normal/Normal_Videos399_x264.mp4  \n",
            "  inflating: dataset/dataset/Normal/Normal_Videos400_x264.mp4  \n",
            "  inflating: dataset/dataset/Normal/Normal_Videos402_x264.mp4  \n",
            "  inflating: dataset/dataset/Normal/Normal_Videos403_x264.mp4  \n",
            "  inflating: dataset/dataset/Normal/Normal_Videos407_x264.mp4  \n",
            "  inflating: dataset/dataset/Normal/Normal_Videos408_x264.mp4  \n",
            "  inflating: dataset/dataset/Normal/Normal_Videos409_x264.mp4  \n",
            "  inflating: dataset/dataset/Normal/Normal_Videos410_x264.mp4  \n",
            "  inflating: dataset/dataset/Normal/Normal_Videos411_x264.mp4  \n",
            "  inflating: dataset/dataset/Normal/Normal_Videos414_x264.mp4  \n",
            "  inflating: dataset/dataset/Normal/Normal_Videos415_x264.mp4  \n",
            "  inflating: dataset/dataset/Normal/Normal_Videos422_x264.mp4  \n",
            "  inflating: dataset/dataset/Normal/Normal_Videos423_x264.mp4  \n",
            "  inflating: dataset/dataset/Normal/Normal_Videos426_x264.mp4  \n",
            "  inflating: dataset/dataset/Normal/Normal_Videos427_x264.mp4  \n",
            "  inflating: dataset/dataset/Normal/Normal_Videos428_x264.mp4  \n",
            "  inflating: dataset/dataset/Normal/Normal_Videos430_x264.mp4  \n",
            "  inflating: dataset/dataset/Normal/Normal_Videos432_x264.mp4  \n",
            "  inflating: dataset/dataset/Normal/Normal_Videos433_x264.mp4  \n",
            "  inflating: dataset/dataset/Normal/Normal_Videos434_x264.mp4  \n",
            "  inflating: dataset/dataset/Normal/Normal_Videos435_x264.mp4  \n",
            "  inflating: dataset/dataset/Normal/Normal_Videos436_x264.mp4  \n",
            "  inflating: dataset/dataset/Normal/Normal_Videos438_x264.mp4  \n",
            "  inflating: dataset/dataset/Normal/Normal_Videos440_x264.mp4  \n",
            "  inflating: dataset/dataset/Normal/Normal_Videos442_x264.mp4  \n",
            "  inflating: dataset/dataset/Normal/Normal_Videos443_x264.mp4  \n",
            "  inflating: dataset/dataset/Normal/Normal_Videos445_x264.mp4  \n",
            "  inflating: dataset/dataset/Normal/Normal_Videos446_x264.mp4  \n",
            "  inflating: dataset/dataset/Normal/Normal_Videos450_x264.mp4  \n",
            "  inflating: dataset/dataset/Normal/Normal_Videos454_x264.mp4  \n",
            "  inflating: dataset/dataset/Normal/Normal_Videos455_x264.mp4  \n",
            "  inflating: dataset/dataset/Normal/Normal_Videos456_x264.mp4  \n",
            "  inflating: dataset/dataset/Normal/Normal_Videos457_x264.mp4  \n",
            "  inflating: dataset/dataset/Normal/Normal_Videos458_x264.mp4  \n",
            "  inflating: dataset/dataset/Normal/Normal_Videos459_x264.mp4  \n",
            "  inflating: dataset/dataset/Normal/Normal_Videos460_x264.mp4  \n",
            "  inflating: dataset/dataset/Normal/Normal_Videos465_x264.mp4  \n",
            "  inflating: dataset/dataset/Normal/Normal_Videos480_x264.mp4  \n",
            "   creating: dataset/dataset/Robbery/\n",
            "  inflating: dataset/dataset/Robbery/Robbery001_x264.mp4  \n",
            "  inflating: dataset/dataset/Robbery/Robbery002_x264.mp4  \n",
            "  inflating: dataset/dataset/Robbery/Robbery003_x264.mp4  \n",
            "  inflating: dataset/dataset/Robbery/Robbery004_x264.mp4  \n",
            "  inflating: dataset/dataset/Robbery/Robbery005_x264.mp4  \n",
            "  inflating: dataset/dataset/Robbery/Robbery006_x264.mp4  \n",
            "  inflating: dataset/dataset/Robbery/Robbery007_x264.mp4  \n",
            "  inflating: dataset/dataset/Robbery/Robbery008_x264.mp4  \n",
            "  inflating: dataset/dataset/Robbery/Robbery009_x264.mp4  \n",
            "  inflating: dataset/dataset/Robbery/Robbery010_x264.mp4  \n",
            "  inflating: dataset/dataset/Robbery/Robbery011_x264.mp4  \n",
            "  inflating: dataset/dataset/Robbery/Robbery012_x264.mp4  \n",
            "  inflating: dataset/dataset/Robbery/Robbery013_x264.mp4  \n",
            "  inflating: dataset/dataset/Robbery/Robbery014_x264.mp4  \n",
            "  inflating: dataset/dataset/Robbery/Robbery015_x264.mp4  \n",
            "  inflating: dataset/dataset/Robbery/Robbery016_x264.mp4  \n",
            "  inflating: dataset/dataset/Robbery/Robbery017_x264.mp4  \n",
            "  inflating: dataset/dataset/Robbery/Robbery018_x264.mp4  \n",
            "  inflating: dataset/dataset/Robbery/Robbery019_x264.mp4  \n",
            "  inflating: dataset/dataset/Robbery/Robbery020_x264.mp4  \n",
            "  inflating: dataset/dataset/Robbery/Robbery021_x264.mp4  \n",
            "  inflating: dataset/dataset/Robbery/Robbery022_x264.mp4  \n",
            "  inflating: dataset/dataset/Robbery/Robbery023_x264.mp4  \n",
            "  inflating: dataset/dataset/Robbery/Robbery024_x264.mp4  \n",
            "  inflating: dataset/dataset/Robbery/Robbery025_x264.mp4  \n",
            "  inflating: dataset/dataset/Robbery/Robbery026_x264.mp4  \n",
            "  inflating: dataset/dataset/Robbery/Robbery027_x264.mp4  \n",
            "  inflating: dataset/dataset/Robbery/Robbery028_x264.mp4  \n",
            "  inflating: dataset/dataset/Robbery/Robbery029_x264.mp4  \n",
            "  inflating: dataset/dataset/Robbery/Robbery030_x264.mp4  \n",
            "  inflating: dataset/dataset/Robbery/Robbery031_x264.mp4  \n",
            "  inflating: dataset/dataset/Robbery/Robbery032_x264.mp4  \n",
            "  inflating: dataset/dataset/Robbery/Robbery033_x264.mp4  \n",
            "  inflating: dataset/dataset/Robbery/Robbery034_x264.mp4  \n",
            "  inflating: dataset/dataset/Robbery/Robbery035_x264.mp4  \n",
            "  inflating: dataset/dataset/Robbery/Robbery036_x264.mp4  \n",
            "  inflating: dataset/dataset/Robbery/Robbery037_x264.mp4  \n",
            "  inflating: dataset/dataset/Robbery/Robbery038_x264.mp4  \n",
            "  inflating: dataset/dataset/Robbery/Robbery039_x264.mp4  \n",
            "  inflating: dataset/dataset/Robbery/Robbery040_x264.mp4  \n",
            "  inflating: dataset/dataset/Robbery/Robbery041_x264.mp4  \n",
            "  inflating: dataset/dataset/Robbery/Robbery042_x264.mp4  \n",
            "  inflating: dataset/dataset/Robbery/Robbery043_x264.mp4  \n",
            "  inflating: dataset/dataset/Robbery/Robbery044_x264.mp4  \n",
            "  inflating: dataset/dataset/Robbery/Robbery045_x264.mp4  \n",
            "  inflating: dataset/dataset/Robbery/Robbery046_x264.mp4  \n",
            "  inflating: dataset/dataset/Robbery/Robbery047_x264.mp4  \n",
            "  inflating: dataset/dataset/Robbery/Robbery048_x264.mp4  \n",
            "  inflating: dataset/dataset/Robbery/Robbery049_x264.mp4  \n",
            "  inflating: dataset/dataset/Robbery/Robbery050_x264.mp4  \n",
            "  inflating: dataset/dataset/Robbery/Robbery051_x264.mp4  \n",
            "  inflating: dataset/dataset/Robbery/Robbery052_x264.mp4  \n",
            "  inflating: dataset/dataset/Robbery/Robbery053_x264.mp4  \n",
            "  inflating: dataset/dataset/Robbery/Robbery054_x264.mp4  \n",
            "  inflating: dataset/dataset/Robbery/Robbery055_x264.mp4  \n",
            "  inflating: dataset/dataset/Robbery/Robbery056_x264.mp4  \n",
            "  inflating: dataset/dataset/Robbery/Robbery057_x264.mp4  \n",
            "  inflating: dataset/dataset/Robbery/Robbery058_x264.mp4  \n",
            "  inflating: dataset/dataset/Robbery/Robbery059_x264.mp4  \n",
            "  inflating: dataset/dataset/Robbery/Robbery060_x264.mp4  \n",
            "  inflating: dataset/dataset/Robbery/Robbery061_x264.mp4  \n",
            "  inflating: dataset/dataset/Robbery/Robbery062_x264.mp4  \n",
            "  inflating: dataset/dataset/Robbery/Robbery063_x264.mp4  \n",
            "  inflating: dataset/dataset/Robbery/Robbery064_x264.mp4  \n",
            "  inflating: dataset/dataset/Robbery/Robbery065_x264.mp4  \n",
            "  inflating: dataset/dataset/Robbery/Robbery066_x264.mp4  \n",
            "  inflating: dataset/dataset/Robbery/Robbery067_x264.mp4  \n",
            "  inflating: dataset/dataset/Robbery/Robbery068_x264.mp4  \n",
            "  inflating: dataset/dataset/Robbery/Robbery069_x264.mp4  \n",
            "  inflating: dataset/dataset/Robbery/Robbery070_x264.mp4  \n",
            "  inflating: dataset/dataset/Robbery/Robbery071_x264.mp4  \n",
            "  inflating: dataset/dataset/Robbery/Robbery072_x264.mp4  \n",
            "  inflating: dataset/dataset/Robbery/Robbery073_x264.mp4  \n",
            "  inflating: dataset/dataset/Robbery/Robbery074_x264.mp4  \n",
            "  inflating: dataset/dataset/Robbery/Robbery075_x264.mp4  \n",
            "  inflating: dataset/dataset/Robbery/Robbery076_x264.mp4  \n",
            "  inflating: dataset/dataset/Robbery/Robbery077_x264.mp4  \n",
            "  inflating: dataset/dataset/Robbery/Robbery078_x264.mp4  \n",
            "  inflating: dataset/dataset/Robbery/Robbery079_x264.mp4  \n",
            "  inflating: dataset/dataset/Robbery/Robbery080_x264.mp4  \n",
            "  inflating: dataset/dataset/Robbery/Robbery081_x264.mp4  \n",
            "  inflating: dataset/dataset/Robbery/Robbery082_x264.mp4  \n",
            "  inflating: dataset/dataset/Robbery/Robbery083_x264.mp4  \n",
            "  inflating: dataset/dataset/Robbery/Robbery084_x264.mp4  \n",
            "  inflating: dataset/dataset/Robbery/Robbery085_x264.mp4  \n",
            "  inflating: dataset/dataset/Robbery/Robbery086_x264.mp4  \n",
            "  inflating: dataset/dataset/Robbery/Robbery087_x264.mp4  \n",
            "  inflating: dataset/dataset/Robbery/Robbery088_x264.mp4  \n",
            "  inflating: dataset/dataset/Robbery/Robbery089_x264.mp4  \n",
            "  inflating: dataset/dataset/Robbery/Robbery090_x264.mp4  \n",
            "  inflating: dataset/dataset/Robbery/Robbery091_x264.mp4  \n",
            "  inflating: dataset/dataset/Robbery/Robbery092_x264.mp4  \n",
            "  inflating: dataset/dataset/Robbery/Robbery093_x264.mp4  \n",
            "  inflating: dataset/dataset/Robbery/Robbery094_x264.mp4  \n",
            "  inflating: dataset/dataset/Robbery/Robbery095_x264.mp4  \n",
            "  inflating: dataset/dataset/Robbery/Robbery096_x264.mp4  \n",
            "  inflating: dataset/dataset/Robbery/Robbery097_x264.mp4  \n",
            "  inflating: dataset/dataset/Robbery/Robbery098_x264.mp4  \n",
            "  inflating: dataset/dataset/Robbery/Robbery099_x264.mp4  \n",
            "  inflating: dataset/dataset/Robbery/Robbery100_x264.mp4  \n",
            "  inflating: dataset/dataset/Robbery/Robbery101_x264.mp4  \n",
            "  inflating: dataset/dataset/Robbery/Robbery102_x264.mp4  \n",
            "  inflating: dataset/dataset/Robbery/Robbery103_x264.mp4  \n",
            "  inflating: dataset/dataset/Robbery/Robbery104_x264.mp4  \n",
            "  inflating: dataset/dataset/Robbery/Robbery105_x264.mp4  \n",
            "  inflating: dataset/dataset/Robbery/Robbery106_x264.mp4  \n",
            "  inflating: dataset/dataset/Robbery/Robbery107_x264.mp4  \n",
            "  inflating: dataset/dataset/Robbery/Robbery108_x264.mp4  \n",
            "  inflating: dataset/dataset/Robbery/Robbery109_x264.mp4  \n",
            "  inflating: dataset/dataset/Robbery/Robbery110_x264.mp4  \n",
            "  inflating: dataset/dataset/Robbery/Robbery111_x264.mp4  \n",
            "  inflating: dataset/dataset/Robbery/Robbery112_x264.mp4  \n",
            "  inflating: dataset/dataset/Robbery/Robbery113_x264.mp4  \n",
            "  inflating: dataset/dataset/Robbery/Robbery114_x264.mp4  \n",
            "  inflating: dataset/dataset/Robbery/Robbery115_x264.mp4  \n",
            "  inflating: dataset/dataset/Robbery/Robbery116_x264.mp4  \n",
            "  inflating: dataset/dataset/Robbery/Robbery117_x264.mp4  \n",
            "  inflating: dataset/dataset/Robbery/Robbery118_x264.mp4  \n",
            "  inflating: dataset/dataset/Robbery/Robbery119_x264.mp4  \n",
            "  inflating: dataset/dataset/Robbery/Robbery120_x264.mp4  \n",
            "  inflating: dataset/dataset/Robbery/Robbery121_x264.mp4  \n",
            "  inflating: dataset/dataset/Robbery/Robbery122_x264.mp4  \n",
            "  inflating: dataset/dataset/Robbery/Robbery123_x264.mp4  \n",
            "  inflating: dataset/dataset/Robbery/Robbery124_x264.mp4  \n",
            "  inflating: dataset/dataset/Robbery/Robbery125_x264.mp4  \n",
            "  inflating: dataset/dataset/Robbery/Robbery126_x264.mp4  \n",
            "  inflating: dataset/dataset/Robbery/Robbery127_x264.mp4  \n",
            "  inflating: dataset/dataset/Robbery/Robbery128_x264.mp4  \n",
            "  inflating: dataset/dataset/Robbery/Robbery129_x264.mp4  \n",
            "  inflating: dataset/dataset/Robbery/Robbery130_x264.mp4  \n",
            "  inflating: dataset/dataset/Robbery/Robbery131_x264.mp4  \n",
            "  inflating: dataset/dataset/Robbery/Robbery132_x264.mp4  \n",
            "  inflating: dataset/dataset/Robbery/Robbery133_x264.mp4  \n",
            "  inflating: dataset/dataset/Robbery/Robbery134_x264.mp4  \n",
            "  inflating: dataset/dataset/Robbery/Robbery135_x264.mp4  \n",
            "  inflating: dataset/dataset/Robbery/Robbery136_x264.mp4  \n",
            "  inflating: dataset/dataset/Robbery/Robbery137_x264.mp4  \n",
            "  inflating: dataset/dataset/Robbery/Robbery138_x264.mp4  \n",
            "  inflating: dataset/dataset/Robbery/Robbery139_x264.mp4  \n",
            "  inflating: dataset/dataset/Robbery/Robbery140_x264.mp4  \n",
            "  inflating: dataset/dataset/Robbery/Robbery141_x264.mp4  \n",
            "  inflating: dataset/dataset/Robbery/Robbery142_x264.mp4  \n",
            "  inflating: dataset/dataset/Robbery/Robbery143_x264.mp4  \n",
            "  inflating: dataset/dataset/Robbery/Robbery144_x264.mp4  \n",
            "  inflating: dataset/dataset/Robbery/Robbery145_x264.mp4  \n",
            "  inflating: dataset/dataset/Robbery/Robbery146_x264.mp4  \n",
            "  inflating: dataset/dataset/Robbery/Robbery147_x264.mp4  \n",
            "  inflating: dataset/dataset/Robbery/Robbery148_x264.mp4  \n",
            "  inflating: dataset/dataset/Robbery/Robbery149_x264.mp4  \n",
            "  inflating: dataset/dataset/Robbery/Robbery150_x264.mp4  \n",
            "   creating: dataset/dataset/Shoplifting/\n",
            "  inflating: dataset/dataset/Shoplifting/Shoplifting001_x264.mp4  \n",
            "  inflating: dataset/dataset/Shoplifting/Shoplifting003_x264.mp4  \n",
            "  inflating: dataset/dataset/Shoplifting/Shoplifting004_x264.mp4  \n",
            "  inflating: dataset/dataset/Shoplifting/Shoplifting005_x264.mp4  \n",
            "  inflating: dataset/dataset/Shoplifting/Shoplifting006_x264.mp4  \n",
            "  inflating: dataset/dataset/Shoplifting/Shoplifting007_x264.mp4  \n",
            "  inflating: dataset/dataset/Shoplifting/Shoplifting008_x264.mp4  \n",
            "  inflating: dataset/dataset/Shoplifting/Shoplifting009_x264.mp4  \n",
            "  inflating: dataset/dataset/Shoplifting/Shoplifting010_x264.mp4  \n",
            "  inflating: dataset/dataset/Shoplifting/Shoplifting012_x264.mp4  \n",
            "  inflating: dataset/dataset/Shoplifting/Shoplifting013_x264.mp4  \n",
            "  inflating: dataset/dataset/Shoplifting/Shoplifting014_x264.mp4  \n",
            "  inflating: dataset/dataset/Shoplifting/Shoplifting015_x264.mp4  \n",
            "  inflating: dataset/dataset/Shoplifting/Shoplifting016_x264.mp4  \n",
            "  inflating: dataset/dataset/Shoplifting/Shoplifting017_x264.mp4  \n",
            "  inflating: dataset/dataset/Shoplifting/Shoplifting018_x264.mp4  \n",
            "  inflating: dataset/dataset/Shoplifting/Shoplifting019_x264.mp4  \n",
            "  inflating: dataset/dataset/Shoplifting/Shoplifting020_x264.mp4  \n",
            "  inflating: dataset/dataset/Shoplifting/Shoplifting021_x264.mp4  \n",
            "  inflating: dataset/dataset/Shoplifting/Shoplifting022_x264.mp4  \n",
            "  inflating: dataset/dataset/Shoplifting/Shoplifting024_x264.mp4  \n",
            "  inflating: dataset/dataset/Shoplifting/Shoplifting025_x264.mp4  \n",
            "  inflating: dataset/dataset/Shoplifting/Shoplifting026_x264.mp4  \n",
            "  inflating: dataset/dataset/Shoplifting/Shoplifting027_x264.mp4  \n",
            "  inflating: dataset/dataset/Shoplifting/Shoplifting028_x264.mp4  \n",
            "  inflating: dataset/dataset/Shoplifting/Shoplifting029_x264.mp4  \n",
            "  inflating: dataset/dataset/Shoplifting/Shoplifting030_x264.mp4  \n",
            "  inflating: dataset/dataset/Shoplifting/Shoplifting031_x264.mp4  \n",
            "  inflating: dataset/dataset/Shoplifting/Shoplifting032_x264.mp4  \n",
            "  inflating: dataset/dataset/Shoplifting/Shoplifting033_x264.mp4  \n",
            "  inflating: dataset/dataset/Shoplifting/Shoplifting034_x264.mp4  \n",
            "  inflating: dataset/dataset/Shoplifting/Shoplifting036_x264.mp4  \n",
            "  inflating: dataset/dataset/Shoplifting/Shoplifting037_x264.mp4  \n",
            "  inflating: dataset/dataset/Shoplifting/Shoplifting038_x264.mp4  \n",
            "  inflating: dataset/dataset/Shoplifting/Shoplifting039_x264.mp4  \n",
            "  inflating: dataset/dataset/Shoplifting/Shoplifting040_x264.mp4  \n",
            "  inflating: dataset/dataset/Shoplifting/Shoplifting041_x264.mp4  \n",
            "  inflating: dataset/dataset/Shoplifting/Shoplifting042_x264.mp4  \n",
            "  inflating: dataset/dataset/Shoplifting/Shoplifting043_x264.mp4  \n",
            "  inflating: dataset/dataset/Shoplifting/Shoplifting044_x264.mp4  \n",
            "  inflating: dataset/dataset/Shoplifting/Shoplifting045_x264.mp4  \n",
            "  inflating: dataset/dataset/Shoplifting/Shoplifting047_x264.mp4  \n",
            "  inflating: dataset/dataset/Shoplifting/Shoplifting048_x264.mp4  \n",
            "  inflating: dataset/dataset/Shoplifting/Shoplifting049_x264.mp4  \n",
            "  inflating: dataset/dataset/Shoplifting/Shoplifting050_x264.mp4  \n",
            "  inflating: dataset/dataset/Shoplifting/Shoplifting051_x264.mp4  \n",
            "  inflating: dataset/dataset/Shoplifting/Shoplifting052_x264.mp4  \n",
            "  inflating: dataset/dataset/Shoplifting/Shoplifting053_x264.mp4  \n",
            "  inflating: dataset/dataset/Shoplifting/Shoplifting054_x264.mp4  \n",
            "  inflating: dataset/dataset/Shoplifting/Shoplifting055_x264.mp4  \n",
            "  inflating: Anomaly_Test.txt        \n",
            "  inflating: Anomaly_Train.txt       \n"
          ]
        }
      ]
    },
    {
      "cell_type": "code",
      "source": [
        "# !cp -r /content/drive/MyDrive/ML/models ."
      ],
      "metadata": {
        "id": "ZrfL53_SofbT"
      },
      "execution_count": null,
      "outputs": []
    },
    {
      "cell_type": "code",
      "metadata": {
        "id": "1gnN7VOBpteX"
      },
      "source": [
        "dataset_path = 'dataset' # path to dataset\n",
        "models_path = 'models'   # path to model weights"
      ],
      "execution_count": 11,
      "outputs": []
    },
    {
      "cell_type": "code",
      "metadata": {
        "id": "EF3YgnPDp20w"
      },
      "source": [
        "num_gpus = 1\n",
        "ctx = [mx.gpu(i) for i in range(num_gpus)]"
      ],
      "execution_count": 12,
      "outputs": []
    },
    {
      "cell_type": "code",
      "metadata": {
        "id": "_4cllyOn-vYU"
      },
      "source": [
        "classes = ['Normal', 'Robbery', 'Shoplifting']\n",
        "\n",
        "num_segments = 4\n",
        "num_frames = 48\n",
        "\n",
        "per_device_batch_size = 3\n",
        "num_workers = 4\n",
        "batch_size = num_gpus*per_device_batch_size"
      ],
      "execution_count": 13,
      "outputs": []
    },
    {
      "cell_type": "markdown",
      "metadata": {
        "id": "iZRJ7g418zCJ"
      },
      "source": [
        "## Train"
      ]
    },
    {
      "cell_type": "code",
      "metadata": {
        "id": "N3RW0J1j9T5Q",
        "colab": {
          "base_uri": "https://localhost:8080/"
        },
        "outputId": "09ae3353-a4da-461b-e3a7-96b4e21df88b"
      },
      "source": [
        "transform_train = video.VideoGroupTrainTransform(size=(224, 224), scale_ratios=[1.0, 0.85, 0.75], mean=[0.485, 0.456, 0.406], std=[0.229, 0.224, 0.225])\n",
        "transform_valid = video.VideoGroupValTransform(size=224, mean=[0.485, 0.456, 0.406], std=[0.229, 0.224, 0.225])\n",
        "\n",
        "train_dataset = VideoClsCustom(root=dataset_path,\n",
        "                               setting=f'{dataset_path}/Anomaly_Train_output.txt',\n",
        "                               train=True,\n",
        "                               new_length=num_frames,\n",
        "                               num_segments=num_segments,\n",
        "                               transform=transform_train,\n",
        "                               video_ext='mp4',\n",
        "                               video_loader=True,\n",
        "                               use_decord=True\n",
        "                               )\n",
        "print('Load %d training samples.' % len(train_dataset))\n",
        "train_data = gluon.data.DataLoader(train_dataset, batch_size=batch_size,\n",
        "                                   shuffle=True, num_workers=num_workers)\n",
        "\n",
        "valid_dataset = VideoClsCustom(root=dataset_path,\n",
        "                               setting=f'{dataset_path}/Anomaly_Test_output.txt',\n",
        "                               train=False,\n",
        "                               new_length=num_frames,\n",
        "                               num_segments=num_segments,\n",
        "                               transform=transform_valid,\n",
        "                               video_ext='mp4',\n",
        "                               video_loader=True,\n",
        "                               use_decord=True)\n",
        "print('Load %d valid samples.' % len(valid_dataset))\n",
        "valid_data = gluon.data.DataLoader(valid_dataset, batch_size=batch_size,\n",
        "                                   shuffle=True, num_workers=num_workers)"
      ],
      "execution_count": 14,
      "outputs": [
        {
          "output_type": "stream",
          "name": "stdout",
          "text": [
            "Load 336 training samples.\n",
            "Load 83 valid samples.\n"
          ]
        }
      ]
    },
    {
      "cell_type": "code",
      "metadata": {
        "id": "bVjTRRPEBfK7",
        "colab": {
          "base_uri": "https://localhost:8080/"
        },
        "outputId": "4d3b57e8-f5da-4dcc-bf76-90401a1c7f93"
      },
      "source": [
        "net = get_model(name='slowfast_4x16_resnet50_custom', nclass=len(classes), num_segments=num_segments, ctx=ctx)\n",
        "\n",
        "# Learning rate decay factor\n",
        "lr_decay = 0.1\n",
        "# Epochs where learning rate decays\n",
        "\n",
        "lr_decay_epoch = [50, 80]\n",
        "\n",
        "# Stochastic gradient descent\n",
        "optimizer = 'sgd'\n",
        "# Set parameters\n",
        "\n",
        "optimizer_params = {'learning_rate': 0.0001, 'wd': 1e-5, 'momentum': 0.9}\n",
        "\n",
        "# Define our trainer for net\n",
        "trainer = gluon.Trainer(net.collect_params(), optimizer, optimizer_params)\n",
        "\n",
        "loss_fn = gluon.loss.SoftmaxCrossEntropyLoss()\n",
        "\n",
        "train_metric = mx.metric.Accuracy()\n",
        "valid_metric = mx.metric.Accuracy()\n",
        "train_history = TrainingHistory(['training-acc'])\n",
        "valid_history = TrainingHistory(['valid-acc'])"
      ],
      "execution_count": 15,
      "outputs": [
        {
          "output_type": "stream",
          "name": "stdout",
          "text": [
            "Downloading /root/.mxnet/models/slowfast_4x16_resnet50_kinetics400-9d650f51.zip from https://apache-mxnet.s3-accelerate.dualstack.amazonaws.com/gluon/models/slowfast_4x16_resnet50_kinetics400-9d650f51.zip...\n"
          ]
        },
        {
          "output_type": "stream",
          "name": "stderr",
          "text": [
            "100%|██████████| 134964/134964 [00:04<00:00, 32936.14KB/s]\n"
          ]
        }
      ]
    },
    {
      "cell_type": "code",
      "source": [
        "!mkdir models"
      ],
      "metadata": {
        "id": "FhTGxajPWcuL"
      },
      "execution_count": 17,
      "outputs": []
    },
    {
      "cell_type": "code",
      "metadata": {
        "id": "RXzc3QIiBfxO",
        "colab": {
          "base_uri": "https://localhost:8080/"
        },
        "outputId": "927e6e62-8baf-46c7-c53b-f0cf180aeda2"
      },
      "source": [
        "epochs = 20\n",
        "lr_decay_count = 0\n",
        "valid_loss_best = 1000\n",
        "valid_acc_best = 10\n",
        "hist_prec_train = []\n",
        "hist_prec_test = []\n",
        "hist_recall_train = []\n",
        "hist_recall_test = []\n",
        "hist_loss = []\n",
        "hist_loss_valid = []\n",
        "\n",
        "for epoch in range(epochs):\n",
        "    tic = time.time()\n",
        "    train_metric.reset()\n",
        "    valid_metric.reset()\n",
        "    train_loss = 0\n",
        "    valid_loss = 0\n",
        "\n",
        "    # Learning rate decay\n",
        "    if epoch == lr_decay_epoch[lr_decay_count]:\n",
        "        trainer.set_learning_rate(trainer.learning_rate*lr_decay)\n",
        "        lr_decay_count += 1\n",
        "\n",
        "    # Loop through each batch of training data\n",
        "    y_true = np.array([], dtype='int')\n",
        "    y_pred = np.array([], dtype='int')\n",
        "    for i, batch in enumerate(train_data):\n",
        "        # Extract data and label\n",
        "        data = split_and_load(batch[0], ctx_list=ctx, batch_axis=0)\n",
        "        label = split_and_load(batch[1], ctx_list=ctx, batch_axis=0)\n",
        "\n",
        "        # AutoGrad\n",
        "        with ag.record():\n",
        "            output = []\n",
        "            for _, X in enumerate(data):\n",
        "                X = X.reshape((-1,) + X.shape[2:])\n",
        "                pred = net(X)\n",
        "                output.append(pred)\n",
        "\n",
        "            loss = [loss_fn(yhat, y) for yhat, y in zip(output, label)]\n",
        "\n",
        "        # Backpropagation\n",
        "        for l in loss:\n",
        "            l.backward()\n",
        "\n",
        "        # Optimize\n",
        "        trainer.step(batch_size)\n",
        "\n",
        "        # Update metrics\n",
        "        train_loss += sum([l.mean().asscalar() for l in loss])\n",
        "        train_metric.update(label, output)\n",
        "\n",
        "        y_true = np.concatenate((y_true, label[0].asnumpy()))\n",
        "        y_pred = np.concatenate((y_pred, pred.argmax(axis=1).astype('int').asnumpy()))\n",
        "\n",
        "    name, acc = train_metric.get()\n",
        "    precisions = metrics.precision_score(y_true, y_pred, average=None, zero_division=False)\n",
        "    recall = metrics.recall_score(y_true, y_pred, average=None, zero_division=False)\n",
        "\n",
        "    # Update history and print metrics\n",
        "    train_history.update([acc])\n",
        "    print(f'[Epoch {epoch}] train={acc:.4f} loss={train_loss/(i+1):.4f} time: {time.time()-tic:.1f} sec')\n",
        "    print('Train precision: ',{k:v for k,v in zip(classes, precisions)})\n",
        "    print('Train recall: ',{k:v for k,v in zip(classes, recall)})\n",
        "    hist_loss.append(train_loss/(i+1))\n",
        "    hist_prec_train.append({k:v for k,v in zip(classes, precisions)})\n",
        "    hist_recall_train.append({k:v for k,v in zip(classes, recall)})\n",
        "\n",
        "    y_true_v = np.array([], dtype='int')\n",
        "    y_pred_v = np.array([], dtype='int')\n",
        "    for i, batch in enumerate(valid_data):\n",
        "        # Extract data and label\n",
        "        data = split_and_load(batch[0], ctx_list=ctx, batch_axis=0)\n",
        "        label = split_and_load(batch[1], ctx_list=ctx, batch_axis=0)\n",
        "\n",
        "        output = []\n",
        "        for _, X in enumerate(data):\n",
        "            X = X.reshape((-1,) + X.shape[2:])\n",
        "            pred = net(X)\n",
        "            output.append(pred)\n",
        "        loss = [loss_fn(yhat, y) for yhat, y in zip(output, label)]\n",
        "\n",
        "        # Update metrics\n",
        "        valid_loss += sum([l.mean().asscalar() for l in loss])\n",
        "        valid_metric.update(label, output)\n",
        "        y_true_v = np.concatenate((y_true_v, label[0].asnumpy()))\n",
        "        y_pred_v = np.concatenate((y_pred_v, pred.argmax(axis=1).astype('int').asnumpy()))\n",
        "\n",
        "    name, acc = valid_metric.get()\n",
        "    precisions_v = metrics.precision_score(y_true_v, y_pred_v, average=None, zero_division=False)\n",
        "    recall_v = metrics.recall_score(y_true_v, y_pred_v, average=None, zero_division=False)\n",
        "\n",
        "    # Update history and print metrics\n",
        "    valid_history.update([acc])\n",
        "    print(f'valid_acc: {acc}, valid_loss: {valid_loss/(i+1)}')\n",
        "    hist_loss_valid.append(valid_loss/(i+1))\n",
        "    print(f'valid precision:', {k:v for k,v in zip(classes, precisions_v)})\n",
        "    print(f'valid recall:', {k:v for k,v in zip(classes, recall_v)})\n",
        "    hist_prec_test.append({k:v for k,v in zip(classes, precisions_v)})\n",
        "    hist_recall_test.append({k:v for k,v in zip(classes, recall_v)})\n",
        "\n",
        "    if (valid_loss_best > valid_loss) or (valid_acc_best < acc) :\n",
        "        valid_loss_best = valid_loss\n",
        "        valid_acc_best = acc\n",
        "        print(f'Best valid loss: {valid_loss_best}')\n",
        "        file_name = f\"{models_path}/slowfast_ucf_{epoch}.params\"\n",
        "        net.save_parameters(file_name)"
      ],
      "execution_count": 18,
      "outputs": [
        {
          "output_type": "stream",
          "name": "stdout",
          "text": [
            "[Epoch 0] train=0.5208 loss=0.9652 time: 539.1 sec\n",
            "Train precision:  {'Normal': 0.5339805825242718, 'Robbery': 0.37037037037037035, 'Shoplifting': 0.0}\n",
            "Train recall:  {'Normal': 0.9322033898305084, 'Robbery': 0.08403361344537816, 'Shoplifting': 0.0}\n",
            "valid_acc: 0.5060240963855421, valid_loss: 0.9406147386346545\n",
            "valid precision: {'Normal': 0.5060240963855421, 'Robbery': 0.0, 'Shoplifting': 0.0}\n",
            "valid recall: {'Normal': 1.0, 'Robbery': 0.0, 'Shoplifting': 0.0}\n",
            "Best valid loss: 26.337212681770325\n",
            "[Epoch 1] train=0.5387 loss=0.9274 time: 535.6 sec\n",
            "Train precision:  {'Normal': 0.5351681957186545, 'Robbery': 0.6666666666666666, 'Shoplifting': 0.0}\n",
            "Train recall:  {'Normal': 0.9887005649717514, 'Robbery': 0.05042016806722689, 'Shoplifting': 0.0}\n",
            "valid_acc: 0.5301204819277109, valid_loss: 0.9227995382887977\n",
            "valid precision: {'Normal': 0.5185185185185185, 'Robbery': 1.0, 'Shoplifting': 0.0}\n",
            "valid recall: {'Normal': 1.0, 'Robbery': 0.06451612903225806, 'Shoplifting': 0.0}\n",
            "Best valid loss: 25.838387072086334\n",
            "[Epoch 2] train=0.5357 loss=0.9256 time: 539.3 sec\n",
            "Train precision:  {'Normal': 0.5335365853658537, 'Robbery': 0.625, 'Shoplifting': 0.0}\n",
            "Train recall:  {'Normal': 0.9887005649717514, 'Robbery': 0.04201680672268908, 'Shoplifting': 0.0}\n",
            "valid_acc: 0.6265060240963856, valid_loss: 0.8853970553193774\n",
            "valid precision: {'Normal': 0.5753424657534246, 'Robbery': 1.0, 'Shoplifting': 0.0}\n",
            "valid recall: {'Normal': 1.0, 'Robbery': 0.3225806451612903, 'Shoplifting': 0.0}\n",
            "Best valid loss: 24.791117548942566\n",
            "[Epoch 3] train=0.5655 loss=0.9086 time: 536.6 sec\n",
            "Train precision:  {'Normal': 0.5544871794871795, 'Robbery': 0.7083333333333334, 'Shoplifting': 0.0}\n",
            "Train recall:  {'Normal': 0.9774011299435028, 'Robbery': 0.14285714285714285, 'Shoplifting': 0.0}\n",
            "valid_acc: 0.6265060240963856, valid_loss: 0.8599181813853127\n",
            "valid precision: {'Normal': 0.5753424657534246, 'Robbery': 1.0, 'Shoplifting': 0.0}\n",
            "valid recall: {'Normal': 1.0, 'Robbery': 0.3225806451612903, 'Shoplifting': 0.0}\n",
            "Best valid loss: 24.077709078788757\n",
            "[Epoch 4] train=0.5893 loss=0.9015 time: 537.9 sec\n",
            "Train precision:  {'Normal': 0.5847750865051903, 'Robbery': 0.6170212765957447, 'Shoplifting': 0.0}\n",
            "Train recall:  {'Normal': 0.9548022598870056, 'Robbery': 0.24369747899159663, 'Shoplifting': 0.0}\n",
            "valid_acc: 0.6265060240963856, valid_loss: 0.8394706632409777\n",
            "valid precision: {'Normal': 0.5753424657534246, 'Robbery': 1.0, 'Shoplifting': 0.0}\n",
            "valid recall: {'Normal': 1.0, 'Robbery': 0.3225806451612903, 'Shoplifting': 0.0}\n",
            "Best valid loss: 23.505178570747375\n",
            "[Epoch 5] train=0.5685 loss=0.8825 time: 547.9 sec\n",
            "Train precision:  {'Normal': 0.5694915254237288, 'Robbery': 0.5609756097560976, 'Shoplifting': 0.0}\n",
            "Train recall:  {'Normal': 0.9491525423728814, 'Robbery': 0.19327731092436976, 'Shoplifting': 0.0}\n",
            "valid_acc: 0.6265060240963856, valid_loss: 0.825368732213974\n",
            "valid precision: {'Normal': 0.5753424657534246, 'Robbery': 1.0, 'Shoplifting': 0.0}\n",
            "valid recall: {'Normal': 1.0, 'Robbery': 0.3225806451612903, 'Shoplifting': 0.0}\n",
            "Best valid loss: 23.110324501991272\n",
            "[Epoch 6] train=0.6190 loss=0.8623 time: 535.1 sec\n",
            "Train precision:  {'Normal': 0.6064981949458483, 'Robbery': 0.6779661016949152, 'Shoplifting': 0.0}\n",
            "Train recall:  {'Normal': 0.9491525423728814, 'Robbery': 0.33613445378151263, 'Shoplifting': 0.0}\n",
            "valid_acc: 0.6987951807228916, valid_loss: 0.7864102731857981\n",
            "valid precision: {'Normal': 0.6451612903225806, 'Robbery': 0.8571428571428571, 'Shoplifting': 0.0}\n",
            "valid recall: {'Normal': 0.9523809523809523, 'Robbery': 0.5806451612903226, 'Shoplifting': 0.0}\n",
            "Best valid loss: 22.019487649202347\n",
            "[Epoch 7] train=0.6161 loss=0.8492 time: 531.9 sec\n",
            "Train precision:  {'Normal': 0.608540925266904, 'Robbery': 0.6545454545454545, 'Shoplifting': 0.0}\n",
            "Train recall:  {'Normal': 0.9661016949152542, 'Robbery': 0.3025210084033613, 'Shoplifting': 0.0}\n",
            "valid_acc: 0.7710843373493976, valid_loss: 0.7531734013131687\n",
            "valid precision: {'Normal': 0.7142857142857143, 'Robbery': 0.8888888888888888, 'Shoplifting': 0.0}\n",
            "valid recall: {'Normal': 0.9523809523809523, 'Robbery': 0.7741935483870968, 'Shoplifting': 0.0}\n",
            "Best valid loss: 21.088855236768723\n",
            "[Epoch 8] train=0.6637 loss=0.8372 time: 553.7 sec\n",
            "Train precision:  {'Normal': 0.6584362139917695, 'Robbery': 0.6774193548387096, 'Shoplifting': 0.0}\n",
            "Train recall:  {'Normal': 0.903954802259887, 'Robbery': 0.5294117647058824, 'Shoplifting': 0.0}\n",
            "valid_acc: 0.7590361445783133, valid_loss: 0.7398950244699206\n",
            "valid precision: {'Normal': 0.7090909090909091, 'Robbery': 0.8571428571428571, 'Shoplifting': 0.0}\n",
            "valid recall: {'Normal': 0.9285714285714286, 'Robbery': 0.7741935483870968, 'Shoplifting': 0.0}\n",
            "Best valid loss: 20.717060685157776\n",
            "[Epoch 9] train=0.6935 loss=0.8085 time: 558.1 sec\n",
            "Train precision:  {'Normal': 0.7022222222222222, 'Robbery': 0.6756756756756757, 'Shoplifting': 0.0}\n",
            "Train recall:  {'Normal': 0.8926553672316384, 'Robbery': 0.6302521008403361, 'Shoplifting': 0.0}\n",
            "valid_acc: 0.7590361445783133, valid_loss: 0.7043727242520877\n",
            "valid precision: {'Normal': 0.7017543859649122, 'Robbery': 0.8846153846153846, 'Shoplifting': 0.0}\n",
            "valid recall: {'Normal': 0.9523809523809523, 'Robbery': 0.7419354838709677, 'Shoplifting': 0.0}\n",
            "Best valid loss: 19.722436279058456\n",
            "[Epoch 10] train=0.6964 loss=0.7835 time: 543.5 sec\n",
            "Train precision:  {'Normal': 0.6958333333333333, 'Robbery': 0.6979166666666666, 'Shoplifting': 0.0}\n",
            "Train recall:  {'Normal': 0.943502824858757, 'Robbery': 0.5630252100840336, 'Shoplifting': 0.0}\n",
            "valid_acc: 0.7951807228915663, valid_loss: 0.6670751337494168\n",
            "valid precision: {'Normal': 0.78, 'Robbery': 0.8181818181818182, 'Shoplifting': 0.0}\n",
            "valid recall: {'Normal': 0.9285714285714286, 'Robbery': 0.8709677419354839, 'Shoplifting': 0.0}\n",
            "Best valid loss: 18.678103744983673\n",
            "[Epoch 11] train=0.6696 loss=0.7699 time: 554.9 sec\n",
            "Train precision:  {'Normal': 0.6779661016949152, 'Robbery': 0.65, 'Shoplifting': 0.0}\n",
            "Train recall:  {'Normal': 0.903954802259887, 'Robbery': 0.5462184873949579, 'Shoplifting': 0.0}\n",
            "valid_acc: 0.7590361445783133, valid_loss: 0.6546602086829287\n",
            "valid precision: {'Normal': 0.7090909090909091, 'Robbery': 0.8571428571428571, 'Shoplifting': 0.0}\n",
            "valid recall: {'Normal': 0.9285714285714286, 'Robbery': 0.7741935483870968, 'Shoplifting': 0.0}\n",
            "Best valid loss: 18.330485843122005\n",
            "[Epoch 12] train=0.7024 loss=0.7570 time: 544.6 sec\n",
            "Train precision:  {'Normal': 0.751219512195122, 'Robbery': 0.6259541984732825, 'Shoplifting': 0.0}\n",
            "Train recall:  {'Normal': 0.8700564971751412, 'Robbery': 0.6890756302521008, 'Shoplifting': 0.0}\n",
            "valid_acc: 0.7951807228915663, valid_loss: 0.6281669195741415\n",
            "valid precision: {'Normal': 0.7959183673469388, 'Robbery': 0.7941176470588235, 'Shoplifting': 0.0}\n",
            "valid recall: {'Normal': 0.9285714285714286, 'Robbery': 0.8709677419354839, 'Shoplifting': 0.0}\n",
            "Best valid loss: 17.588673748075962\n",
            "[Epoch 13] train=0.6845 loss=0.7480 time: 548.4 sec\n",
            "Train precision:  {'Normal': 0.691304347826087, 'Robbery': 0.6698113207547169, 'Shoplifting': 0.0}\n",
            "Train recall:  {'Normal': 0.8983050847457628, 'Robbery': 0.5966386554621849, 'Shoplifting': 0.0}\n",
            "valid_acc: 0.8072289156626506, valid_loss: 0.6185099769915853\n",
            "valid precision: {'Normal': 0.8297872340425532, 'Robbery': 0.7777777777777778, 'Shoplifting': 0.0}\n",
            "valid recall: {'Normal': 0.9285714285714286, 'Robbery': 0.9032258064516129, 'Shoplifting': 0.0}\n",
            "Best valid loss: 17.31827935576439\n",
            "[Epoch 14] train=0.6875 loss=0.7493 time: 551.4 sec\n",
            "Train precision:  {'Normal': 0.7294685990338164, 'Robbery': 0.6201550387596899, 'Shoplifting': 0.0}\n",
            "Train recall:  {'Normal': 0.8531073446327684, 'Robbery': 0.6722689075630253, 'Shoplifting': 0.0}\n",
            "valid_acc: 0.7831325301204819, valid_loss: 0.5945944730192423\n",
            "valid precision: {'Normal': 0.75, 'Robbery': 0.8387096774193549, 'Shoplifting': 0.0}\n",
            "valid recall: {'Normal': 0.9285714285714286, 'Robbery': 0.8387096774193549, 'Shoplifting': 0.0}\n",
            "Best valid loss: 16.648645244538784\n",
            "[Epoch 15] train=0.7054 loss=0.6905 time: 551.0 sec\n",
            "Train precision:  {'Normal': 0.7236842105263158, 'Robbery': 0.6666666666666666, 'Shoplifting': 0.0}\n",
            "Train recall:  {'Normal': 0.9322033898305084, 'Robbery': 0.6050420168067226, 'Shoplifting': 0.0}\n",
            "valid_acc: 0.8072289156626506, valid_loss: 0.5864580345473119\n",
            "valid precision: {'Normal': 0.8125, 'Robbery': 0.8, 'Shoplifting': 0.0}\n",
            "valid recall: {'Normal': 0.9285714285714286, 'Robbery': 0.9032258064516129, 'Shoplifting': 0.0}\n",
            "Best valid loss: 16.420824967324734\n",
            "[Epoch 16] train=0.7054 loss=0.7153 time: 552.0 sec\n",
            "Train precision:  {'Normal': 0.7536945812807881, 'Robbery': 0.631578947368421, 'Shoplifting': 0.0}\n",
            "Train recall:  {'Normal': 0.864406779661017, 'Robbery': 0.7058823529411765, 'Shoplifting': 0.0}\n",
            "valid_acc: 0.8072289156626506, valid_loss: 0.5725387486496142\n",
            "valid precision: {'Normal': 0.78, 'Robbery': 0.8484848484848485, 'Shoplifting': 0.0}\n",
            "valid recall: {'Normal': 0.9285714285714286, 'Robbery': 0.9032258064516129, 'Shoplifting': 0.0}\n",
            "Best valid loss: 16.031084962189198\n",
            "[Epoch 17] train=0.7054 loss=0.6865 time: 545.0 sec\n",
            "Train precision:  {'Normal': 0.7602040816326531, 'Robbery': 0.6285714285714286, 'Shoplifting': 0.0}\n",
            "Train recall:  {'Normal': 0.8418079096045198, 'Robbery': 0.7394957983193278, 'Shoplifting': 0.0}\n",
            "valid_acc: 0.7951807228915663, valid_loss: 0.5584791808256081\n",
            "valid precision: {'Normal': 0.7647058823529411, 'Robbery': 0.84375, 'Shoplifting': 0.0}\n",
            "valid recall: {'Normal': 0.9285714285714286, 'Robbery': 0.8709677419354839, 'Shoplifting': 0.0}\n",
            "Best valid loss: 15.637417063117027\n",
            "[Epoch 18] train=0.7411 loss=0.6686 time: 534.2 sec\n",
            "Train precision:  {'Normal': 0.7627906976744186, 'Robbery': 0.7024793388429752, 'Shoplifting': 0.0}\n",
            "Train recall:  {'Normal': 0.9265536723163842, 'Robbery': 0.7142857142857143, 'Shoplifting': 0.0}\n",
            "valid_acc: 0.8072289156626506, valid_loss: 0.5580160205385515\n",
            "valid precision: {'Normal': 0.7547169811320755, 'Robbery': 0.9, 'Shoplifting': 0.0}\n",
            "valid recall: {'Normal': 0.9523809523809523, 'Robbery': 0.8709677419354839, 'Shoplifting': 0.0}\n",
            "Best valid loss: 15.624448575079441\n",
            "[Epoch 19] train=0.7500 loss=0.6476 time: 546.3 sec\n",
            "Train precision:  {'Normal': 0.803030303030303, 'Robbery': 0.6739130434782609, 'Shoplifting': 0.0}\n",
            "Train recall:  {'Normal': 0.8983050847457628, 'Robbery': 0.7815126050420168, 'Shoplifting': 0.0}\n",
            "valid_acc: 0.8192771084337349, valid_loss: 0.5598186515271664\n",
            "valid precision: {'Normal': 0.8837209302325582, 'Robbery': 0.75, 'Shoplifting': 0.0}\n",
            "valid recall: {'Normal': 0.9047619047619048, 'Robbery': 0.967741935483871, 'Shoplifting': 0.0}\n",
            "Best valid loss: 15.674922242760658\n"
          ]
        }
      ]
    },
    {
      "cell_type": "code",
      "source": [
        "!cp -r /content/models/slowfast_ucf_19.params /content/drive/MyDrive/"
      ],
      "metadata": {
        "id": "vkHgzKV1r564"
      },
      "execution_count": 19,
      "outputs": []
    },
    {
      "cell_type": "markdown",
      "metadata": {
        "id": "8twfKGqc803z"
      },
      "source": [
        "## Validation"
      ]
    },
    {
      "cell_type": "code",
      "metadata": {
        "id": "vMxqmCsK-mUC"
      },
      "source": [
        "net = get_model(name='slowfast_4x16_resnet50_custom', nclass=len(classes), num_segments=num_segments, pretrainded=False, pretrained_base=False, ctx=ctx)\n",
        "net.load_parameters(f'{models_path}/slowfast_ucf_19.params', ctx=ctx)"
      ],
      "execution_count": 20,
      "outputs": []
    },
    {
      "cell_type": "code",
      "metadata": {
        "id": "H-lWguDi_ftn",
        "colab": {
          "base_uri": "https://localhost:8080/"
        },
        "outputId": "4d4e025e-26b1-4769-9dcd-a1133c5d2529"
      },
      "source": [
        "transform_valid = video.VideoGroupValTransform(size=224, mean=[0.485, 0.456, 0.406], std=[0.229, 0.224, 0.225])\n",
        "\n",
        "\n",
        "valid_dataset = VideoClsCustom(root=dataset_path,\n",
        "                               setting=f'{dataset_path}/Anomaly_Test.txt',\n",
        "                               train=False,\n",
        "                               new_length=num_frames,\n",
        "                               num_segments=num_segments,\n",
        "                               transform=transform_valid,\n",
        "                               video_ext='mp4',\n",
        "                               video_loader=True,\n",
        "                               use_decord=True)\n",
        "print('Load %d valid samples.' % len(valid_dataset))\n",
        "valid_data = gluon.data.DataLoader(valid_dataset, batch_size=batch_size,\n",
        "                                   shuffle=True, num_workers=num_workers)"
      ],
      "execution_count": 22,
      "outputs": [
        {
          "output_type": "stream",
          "name": "stdout",
          "text": [
            "Load 12 valid samples.\n"
          ]
        }
      ]
    },
    {
      "cell_type": "code",
      "metadata": {
        "id": "K7hsvEhc__It",
        "colab": {
          "base_uri": "https://localhost:8080/"
        },
        "outputId": "8ae8b604-025d-4a32-924e-2b4f5a618a0b"
      },
      "source": [
        "valid_loss = 0\n",
        "loss_fn = gluon.loss.SoftmaxCrossEntropyLoss()\n",
        "y_true = np.array([],dtype='int')\n",
        "y_pred = np.array([],dtype='int')\n",
        "outputs = []\n",
        "acc = mx.metric.Accuracy()\n",
        "for i, batch in tqdm.tqdm(enumerate(valid_data)):\n",
        "        # Extract data and label\n",
        "        data = split_and_load(batch[0], ctx_list=ctx, batch_axis=0)\n",
        "        label = split_and_load(batch[1], ctx_list=ctx, batch_axis=0)\n",
        "\n",
        "        output = []\n",
        "        for _, X in enumerate(data):\n",
        "            X = X.reshape((-1,) + X.shape[2:])\n",
        "            pred = net(X)\n",
        "            output.append(pred)\n",
        "        loss = [loss_fn(yhat, y) for yhat, y in zip(output, label)]\n",
        "        acc.update(label, output)\n",
        "        # Update metrics\n",
        "        valid_loss += sum([l.mean().asscalar() for l in loss])\n",
        "        y_true = np.concatenate((y_true, label[0].asnumpy()))\n",
        "        y_pred = np.concatenate((y_pred, pred.argmax(axis=1).astype('int').asnumpy()))\n",
        "        outputs.append((output,label))"
      ],
      "execution_count": 23,
      "outputs": [
        {
          "output_type": "stream",
          "name": "stderr",
          "text": [
            "4it [00:26,  6.51s/it]\n"
          ]
        }
      ]
    },
    {
      "cell_type": "code",
      "metadata": {
        "id": "2xRsZCZLAuSs"
      },
      "source": [
        "y_true = np.ravel(np.array(y_true))\n",
        "y_pred = np.ravel(np.array(y_pred))"
      ],
      "execution_count": 24,
      "outputs": []
    },
    {
      "cell_type": "markdown",
      "metadata": {
        "id": "NpFono5oAu-w"
      },
      "source": [
        "Metrics per class"
      ]
    },
    {
      "cell_type": "code",
      "metadata": {
        "id": "4yF-NvatAjHp",
        "colab": {
          "base_uri": "https://localhost:8080/"
        },
        "outputId": "59f8424f-9770-42e9-8936-07c7c0634f70"
      },
      "source": [
        "precisions = metrics.precision_score(y_true, y_pred, average=None, zero_division=False)\n",
        "print(f'Precision: ', {k:v for k,v in zip(classes, precisions)})\n",
        "\n",
        "recalls = metrics.recall_score(y_true, y_pred, average=None, zero_division=False)\n",
        "print(f'Recall: ', {k:v for k,v in zip(classes, recalls)})"
      ],
      "execution_count": 25,
      "outputs": [
        {
          "output_type": "stream",
          "name": "stdout",
          "text": [
            "Precision:  {'Normal': 0.5714285714285714, 'Robbery': 0.8, 'Shoplifting': 0.0}\n",
            "Recall:  {'Normal': 1.0, 'Robbery': 1.0, 'Shoplifting': 0.0}\n"
          ]
        }
      ]
    },
    {
      "cell_type": "code",
      "metadata": {
        "id": "ZKh0AaM5AT3c",
        "colab": {
          "base_uri": "https://localhost:8080/",
          "height": 452
        },
        "outputId": "25697f82-1452-4b33-c4ef-5e8b9c815495"
      },
      "source": [
        "cm = metrics.confusion_matrix(y_true, y_pred)\n",
        "ax = sn.heatmap(cm, annot=True, cmap=plt.cm.Blues, xticklabels=classes, yticklabels=classes)\n",
        "ax.set_title('Valid confusion matrix')\n",
        "plt.show()"
      ],
      "execution_count": 26,
      "outputs": [
        {
          "output_type": "display_data",
          "data": {
            "text/plain": [
              "<Figure size 640x480 with 2 Axes>"
            ],
            "image/png": "[encoded data removed]"
          },
          "metadata": {}
        }
      ]
    },
    {
      "cell_type": "markdown",
      "metadata": {
        "id": "G4NwtwWsA9qi"
      },
      "source": [
        "Normal vs Anomalies"
      ]
    },
    {
      "cell_type": "code",
      "metadata": {
        "id": "BncC6qPbA54-",
        "colab": {
          "base_uri": "https://localhost:8080/"
        },
        "outputId": "9a5fef57-8652-4e12-b35b-74a2d490f1bd"
      },
      "source": [
        "precisions = metrics.precision_score(y_true>0, y_pred>0)\n",
        "print(f'Precision 2 classes: {precisions:.4f}')\n",
        "\n",
        "recalls = metrics.recall_score(y_true>0, y_pred>0)\n",
        "print(f'Recall 2 classes: {recalls:.4f}')"
      ],
      "execution_count": 27,
      "outputs": [
        {
          "output_type": "stream",
          "name": "stdout",
          "text": [
            "Precision 2 classes: 1.0000\n",
            "Recall 2 classes: 0.6250\n"
          ]
        }
      ]
    },
    {
      "cell_type": "code",
      "metadata": {
        "id": "l6_z0poEAqNb",
        "colab": {
          "base_uri": "https://localhost:8080/",
          "height": 452
        },
        "outputId": "2d91cdbb-cf90-40a2-8ce3-0dd8b2343d2c"
      },
      "source": [
        "cm = metrics.confusion_matrix(y_true>0, y_pred>0)\n",
        "ax = sn.heatmap(cm, annot=True, cmap=plt.cm.Blues, xticklabels=['Normal', 'Anomaly'] , yticklabels=['Normal', 'Anomaly']  )\n",
        "ax.set_title('Valid confusion matrix')\n",
        "plt.show()"
      ],
      "execution_count": 28,
      "outputs": [
        {
          "output_type": "display_data",
          "data": {
            "text/plain": [
              "<Figure size 640x480 with 2 Axes>"
            ],
            "image/png": "[encoded data removed]"
          },
          "metadata": {}
        }
      ]
    },
    {
      "cell_type": "markdown",
      "metadata": {
        "id": "jo-OYRsRvk89"
      },
      "source": [
        "## Inference"
      ]
    },
    {
      "cell_type": "code",
      "source": [
        "!mkdir test\n",
        "!mkdir output"
      ],
      "metadata": {
        "id": "kUrVE0APJh5C"
      },
      "execution_count": null,
      "outputs": []
    },
    {
      "cell_type": "code",
      "metadata": {
        "id": "mXG5PzzP-Ecx"
      },
      "source": [
        "input_video_path = 'test'    # path to test video\n",
        "output_video_path = 'output' # path to the output results"
      ],
      "execution_count": 29,
      "outputs": []
    },
    {
      "cell_type": "code",
      "metadata": {
        "id": "ujrcyzKwsQSP"
      },
      "source": [
        "transform_fn = video.VideoGroupValTransform(size=224, mean=[0.485, 0.456, 0.406], std=[0.229, 0.224, 0.225])\n",
        "\n",
        "net = get_model(name='slowfast_4x16_resnet50_custom', nclass=len(classes), num_segments=num_segments, pretrainded=False, pretrained_base=False, ctx=ctx)\n",
        "net.load_parameters(f'{models_path}/slowfast_ucf_19.params', ctx=ctx)"
      ],
      "execution_count": 30,
      "outputs": []
    },
    {
      "cell_type": "code",
      "source": [
        "anomaly_classes = ['Robbery', 'Shoplifting']"
      ],
      "metadata": {
        "id": "BBldHY1GslJi"
      },
      "execution_count": 31,
      "outputs": []
    },
    {
      "cell_type": "code",
      "source": [
        "!rm -r /content/test/.ipynb_checkpoints/"
      ],
      "metadata": {
        "id": "5yTtFathKyHX"
      },
      "execution_count": 35,
      "outputs": []
    },
    {
      "cell_type": "code",
      "metadata": {
        "id": "ykVvSGI0xjFU"
      },
      "source": [
        "def process_video(video_name, input_path, output_path, net, transform_fn, classes, num_frames=48, verbose=True):\n",
        "    '''\n",
        "    Classify action on each num_frames*num_segments length clip from video and write output video with classification result.\n",
        "\n",
        "    Args:\n",
        "        video_name: video name\n",
        "        input_path: path to input folder\n",
        "        output_path: path to output folder\n",
        "        net: the net to perform classification\n",
        "        transform_fn: a function that transforms data\n",
        "        classes: list of actions can be detected on video\n",
        "        num_frames: the length of input video clip\n",
        "        verbose: verbosity level\n",
        "\n",
        "    Returns:\n",
        "        dict: Classification result for each segment.\n",
        "    '''\n",
        "    if verbose:\n",
        "        print(f'Video: {video_name}')\n",
        "    vr = decord.VideoReader(f'{input_video_path}/{video_name}')\n",
        "    segments = split_on_segments(vr, net.num_segments*num_frames)\n",
        "    anomaly_classes = list(filter(lambda c: c != 'Normal', classes))\n",
        "\n",
        "    temp_output_path = f'{output_path}/{video_name}'\n",
        "    if not os.path.exists(temp_output_path):\n",
        "        os.mkdir(temp_output_path)\n",
        "\n",
        "    video_data = None\n",
        "    results = {}\n",
        "\n",
        "    for i, segment in enumerate(segments):\n",
        "        video_data = vr.get_batch(segment).asnumpy()\n",
        "        start_time = time.time()\n",
        "        pred_class, pred_class_prob = predict(net, video_data, transform_fn, num_frames, classes)\n",
        "        end_time = time.time()\n",
        "        results[i] = {'predicted_class': pred_class, 'probability':pred_class_prob}\n",
        "        if pred_class in anomaly_classes:\n",
        "            pred_class = 'Anomaly'\n",
        "        add_result_on_clip(video_data, pred_class, pred_class_prob, anomaly_classes)\n",
        "        write_video_output(f'{temp_output_path}/batch_{i:04d}.mp4', video_data)\n",
        "\n",
        "        if verbose:\n",
        "            print(f'[Segment: {i}] predicted_class: {pred_class}, probability: {pred_class_prob:.4f}, time: {end_time-start_time:0.1f} sec')\n",
        "\n",
        "    if video_data is not None:\n",
        "        height = video_data.shape[1]\n",
        "        width = video_data.shape[2]\n",
        "        merge_clips(temp_output_path, video_name, output_path, (width, height))\n",
        "    shutil.rmtree(temp_output_path)\n",
        "\n",
        "    return results\n",
        "\n",
        "def split_on_segments(vr, segm_length=48, verbose=True):\n",
        "    '''\n",
        "    Split video on segments with *segm_length* length.\n",
        "    Args:\n",
        "        vr: decode.VideoReader\n",
        "        segm_length: segment length\n",
        "        verbose: verbosity level\n",
        "    Returns:\n",
        "        list: List of frame indexes, splitted on segments.\n",
        "    '''\n",
        "    n_frames = len(vr)\n",
        "    fps = vr.get_avg_fps()\n",
        "    duration = n_frames/fps\n",
        "    all_idx = np.arange(n_frames)\n",
        "    idx = range(0, len(all_idx), segm_length)\n",
        "\n",
        "    segments = []\n",
        "    for i in idx:\n",
        "        segment = all_idx[i:i+segm_length]\n",
        "        if len(segment) >= segm_length:\n",
        "            segments.append(segment)\n",
        "\n",
        "    if verbose:\n",
        "        print(f'[Frames partitioning] total frames: {n_frames}, fps: {fps}, duration: {duration:.1f} sec, split on: {len(segments)} segments, segments length: {[i.shape[0] for i in segments]} frames')\n",
        "    return segments\n",
        "\n",
        "def predict(net, clip, transform_fn, num_frames, classes):\n",
        "    '''\n",
        "    Predict action on clip.\n",
        "\n",
        "    Args:\n",
        "        net: the net to perform classification\n",
        "        clip: video clip for predicting action on it\n",
        "        transform_fn: a function that transforms data\n",
        "        num_frames: the length of input video clip\n",
        "        classes: list of action that can be detected on video\n",
        "\n",
        "    Returns:\n",
        "        str, float: Class label with class probability.\n",
        "    '''\n",
        "\n",
        "    clip_input = transform_fn(clip)\n",
        "    clip_input = np.stack(clip_input, axis=0)\n",
        "    clip_input = clip_input.reshape((-1,) + (num_frames, 3, 224, 224))\n",
        "    clip_input = np.transpose(clip_input, (0, 2, 1, 3, 4))\n",
        "\n",
        "    pred = net(nd.array(clip_input).as_in_context(ctx[0]))\n",
        "    ind = nd.topk(pred, k=1)[0].astype('int')\n",
        "    pred_class = classes[ind[0].asscalar()]\n",
        "    pred_class_prob = nd.softmax(pred)[0][ind[0]].asscalar()\n",
        "\n",
        "    return pred_class, pred_class_prob\n",
        "\n",
        "def add_result_on_clip(clip, pred_class, pred_class_prob, anomaly_classes):\n",
        "    '''\n",
        "    Add classification result on clip.\n",
        "\n",
        "    Args:\n",
        "        clip: video clip for adding classification results on it\n",
        "        pred_class: predicted class\n",
        "        pred_class_prob: probability of predicted action\n",
        "        anomaly_classes: list of anomaly actions\n",
        "    '''\n",
        "    for frame in clip:\n",
        "        draw_classification_result(frame, pred_class, pred_class_prob)\n",
        "        if pred_class in anomaly_classes and pred_class_prob > 0.65:\n",
        "            draw_alert_mark(frame)\n",
        "\n",
        "def draw_alert_mark(frame):\n",
        "    '''\n",
        "    Add alert (triangle with \"!\" sign) to mark frame with anomaly.\n",
        "\n",
        "    Args:\n",
        "        frame: video frame\n",
        "    '''\n",
        "\n",
        "    pts = np.array([[165,15],[182,45],[148,45]])\n",
        "    pts = pts.reshape((-1, 1, 2))\n",
        "    cv2.fillPoly(frame,[pts],(255,0,0))\n",
        "    cv2.putText(frame,\"!\",(160,42),cv2.FONT_HERSHEY_SIMPLEX,1,(255,255,255),2)\n",
        "\n",
        "def draw_classification_result(frame, class_name, prob):\n",
        "    '''\n",
        "    Add classification result on frame.\n",
        "\n",
        "    Args:\n",
        "        frame: video frame\n",
        "        class_name: predicted class\n",
        "        prob: probability of predicted class\n",
        "    '''\n",
        "    cv2.rectangle(frame, (8, 5), (190, 55), (240, 240, 240), cv2.FILLED)\n",
        "\n",
        "    text_color = (0,0,0)\n",
        "    cv2.putText(frame,f'class: {class_name}',(10,25),cv2.FONT_HERSHEY_SIMPLEX,0.4,text_color,1)\n",
        "    cv2.putText(frame,f'probability: {prob:0.4f}',(10,45),cv2.FONT_HERSHEY_SIMPLEX,0.4,text_color,1)\n",
        "\n",
        "def write_video_output(output_path, video_data):\n",
        "    '''\n",
        "    Write classified video to file.\n",
        "\n",
        "    Args:\n",
        "        output_path: path to output video file\n",
        "        video_data: video data that should be saved to file\n",
        "    '''\n",
        "\n",
        "    if video_data is None:\n",
        "        print(f'{output_path} can\\'t write file.')\n",
        "        return\n",
        "\n",
        "    height = video_data.shape[1]\n",
        "    width = video_data.shape[2]\n",
        "\n",
        "    out = cv2.VideoWriter(f'{output_path}', cv2.VideoWriter_fourcc(*'MP4V'), 30.0, (width, height))\n",
        "\n",
        "    for frame in video_data:\n",
        "        out.write(cv2.cvtColor(frame, cv2.COLOR_BGR2RGB))\n",
        "\n",
        "    out.release()\n",
        "\n",
        "def merge_clips(clips_path, video_name, output_path, video_shape):\n",
        "    '''\n",
        "    Merge clips into one video.\n",
        "\n",
        "    Args:\n",
        "        clips_path: path to clips folder\n",
        "        video_name: video name\n",
        "        output_path: path to output folder\n",
        "        video_shape: (width, height) shape of output video\n",
        "    '''\n",
        "    out = cv2.VideoWriter(f'{output_path}/output_{video_name}', cv2.VideoWriter_fourcc(*'MP4V'), 30.0, video_shape)\n",
        "    clips_list = sorted(os.listdir(clips_path))\n",
        "    for clip_name in clips_list:\n",
        "        clip = cv2.VideoCapture(f'{clips_path}/{clip_name}')\n",
        "        ret, frame = clip.read()\n",
        "        while(ret):\n",
        "            out.write(frame)\n",
        "            ret, frame = clip.read()\n",
        "        clip.release()\n",
        "\n",
        "    out.release()\n"
      ],
      "execution_count": 36,
      "outputs": []
    },
    {
      "cell_type": "code",
      "metadata": {
        "id": "xe2xBZrCwgT-",
        "colab": {
          "base_uri": "https://localhost:8080/"
        },
        "outputId": "64298da2-2720-4bfb-cd74-b553e1fc5f96"
      },
      "source": [
        "video_list = os.listdir(input_video_path)\n",
        "\n",
        "for video_name in video_list:\n",
        "    process_video(video_name, input_video_path, output_video_path, net, transform_fn, classes, num_frames=num_frames, verbose=1)"
      ],
      "execution_count": 37,
      "outputs": [
        {
          "output_type": "stream",
          "name": "stdout",
          "text": [
            "Video: Robbery012_x264.mp4\n",
            "[Frames partitioning] total frames: 749, fps: 30.0, duration: 25.0 sec, split on: 3 segments, segments length: [192, 192, 192] frames\n",
            "[Segment: 0] predicted_class: Anomaly, probability: 0.5547, time: 5.3 sec\n",
            "[Segment: 1] predicted_class: Anomaly, probability: 0.6484, time: 0.7 sec\n",
            "[Segment: 2] predicted_class: Anomaly, probability: 0.5271, time: 0.6 sec\n",
            "Video: Shoplifting005_x264.mp4\n",
            "[Frames partitioning] total frames: 1967, fps: 30.0, duration: 65.6 sec, split on: 10 segments, segments length: [192, 192, 192, 192, 192, 192, 192, 192, 192, 192] frames\n",
            "[Segment: 0] predicted_class: Normal, probability: 0.6526, time: 0.9 sec\n",
            "[Segment: 1] predicted_class: Normal, probability: 0.5159, time: 1.6 sec\n",
            "[Segment: 2] predicted_class: Anomaly, probability: 0.5975, time: 0.9 sec\n",
            "[Segment: 3] predicted_class: Anomaly, probability: 0.4357, time: 0.8 sec\n",
            "[Segment: 4] predicted_class: Anomaly, probability: 0.6578, time: 0.7 sec\n",
            "[Segment: 5] predicted_class: Anomaly, probability: 0.4410, time: 0.7 sec\n",
            "[Segment: 6] predicted_class: Anomaly, probability: 0.4311, time: 0.8 sec\n",
            "[Segment: 7] predicted_class: Anomaly, probability: 0.4488, time: 0.6 sec\n",
            "[Segment: 8] predicted_class: Normal, probability: 0.4371, time: 0.6 sec\n",
            "[Segment: 9] predicted_class: Normal, probability: 0.6237, time: 0.6 sec\n",
            "Video: Normal_Videos004_x264.mp4\n",
            "[Frames partitioning] total frames: 917, fps: 30.0, duration: 30.6 sec, split on: 4 segments, segments length: [192, 192, 192, 192] frames\n",
            "[Segment: 0] predicted_class: Normal, probability: 0.8593, time: 0.9 sec\n",
            "[Segment: 1] predicted_class: Normal, probability: 0.8553, time: 0.6 sec\n",
            "[Segment: 2] predicted_class: Normal, probability: 0.9336, time: 0.6 sec\n",
            "[Segment: 3] predicted_class: Normal, probability: 0.9274, time: 0.6 sec\n",
            "Video: Shoplifting019_x264.mp4\n",
            "[Frames partitioning] total frames: 657, fps: 30.0, duration: 21.9 sec, split on: 3 segments, segments length: [192, 192, 192] frames\n",
            "[Segment: 0] predicted_class: Normal, probability: 0.4412, time: 0.8 sec\n",
            "[Segment: 1] predicted_class: Normal, probability: 0.6123, time: 0.6 sec\n",
            "[Segment: 2] predicted_class: Normal, probability: 0.4839, time: 0.6 sec\n",
            "Video: Shoplifting017_x264.mp4\n",
            "[Frames partitioning] total frames: 457, fps: 30.0, duration: 15.2 sec, split on: 2 segments, segments length: [192, 192] frames\n",
            "[Segment: 0] predicted_class: Anomaly, probability: 0.6466, time: 1.0 sec\n",
            "[Segment: 1] predicted_class: Anomaly, probability: 0.5850, time: 0.8 sec\n",
            "Video: Normal_Videos001_x264.mp4\n",
            "[Frames partitioning] total frames: 544, fps: 30.0, duration: 18.1 sec, split on: 2 segments, segments length: [192, 192] frames\n",
            "[Segment: 0] predicted_class: Normal, probability: 0.8641, time: 0.9 sec\n",
            "[Segment: 1] predicted_class: Normal, probability: 0.9212, time: 0.8 sec\n",
            "Video: Robbery003_x264.mp4\n",
            "[Frames partitioning] total frames: 984, fps: 30.0, duration: 32.8 sec, split on: 5 segments, segments length: [192, 192, 192, 192, 192] frames\n",
            "[Segment: 0] predicted_class: Anomaly, probability: 0.8940, time: 0.8 sec\n",
            "[Segment: 1] predicted_class: Anomaly, probability: 0.9005, time: 0.6 sec\n",
            "[Segment: 2] predicted_class: Anomaly, probability: 0.8647, time: 0.6 sec\n",
            "[Segment: 3] predicted_class: Anomaly, probability: 0.7797, time: 0.6 sec\n",
            "[Segment: 4] predicted_class: Anomaly, probability: 0.9264, time: 0.6 sec\n"
          ]
        }
      ]
    },
    {
      "cell_type": "code",
      "source": [
        "!cp -r /content/output /content/drive/MyDrive/Anomaly"
      ],
      "metadata": {
        "id": "l13vFZtCqzgz"
      },
      "execution_count": 38,
      "outputs": []
    },
    {
      "cell_type": "code",
      "source": [],
      "metadata": {
        "id": "eCqmxI_CKuFU"
      },
      "execution_count": null,
      "outputs": []
    }
  ],
  "metadata": {
    "colab": {
      "provenance": []
    },
    "kernelspec": {
      "name": "python3",
      "display_name": "Python 3"
    },
    "accelerator": "GPU"
  },
  "nbformat": 4,
  "nbformat_minor": 0
}